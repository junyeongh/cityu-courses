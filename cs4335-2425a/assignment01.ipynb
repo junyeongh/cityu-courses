{
 "cells": [
  {
   "cell_type": "markdown",
   "metadata": {},
   "source": [
    "# Assignment 1\n",
    "\n",
    "## Question 3"
   ]
  },
  {
   "cell_type": "code",
   "execution_count": 1,
   "metadata": {},
   "outputs": [],
   "source": [
    "# O(n log n) solution\n",
    "def find_max_difference1(arr):\n",
    "    def max_difference_helper(arr, left, right):\n",
    "        # Base case: if the array has only two elements\n",
    "        if right - left == 1:\n",
    "            return arr[right] - arr[left]\n",
    "\n",
    "        # Find the middle point\n",
    "        mid = (left + right) // 2\n",
    "\n",
    "        # Recursively find the largest difference in the left and right halves\n",
    "        left_diff = max_difference_helper(arr, left, mid)\n",
    "        right_diff = max_difference_helper(arr, mid, right)\n",
    "\n",
    "        # Find the minimum element in the left half\n",
    "        left_min = min(arr[left : mid + 1])\n",
    "\n",
    "        # Find the maximum element in the right half\n",
    "        right_max = max(arr[mid + 1 : right + 1])\n",
    "\n",
    "        # The largest difference that crosses the boundary\n",
    "        cross_diff = right_max - left_min\n",
    "\n",
    "        # Return the maximum of the three differences\n",
    "        return max(left_diff, right_diff, cross_diff)\n",
    "\n",
    "    return max_difference_helper(arr, 0, len(arr) - 1)"
   ]
  },
  {
   "cell_type": "code",
   "execution_count": 2,
   "metadata": {},
   "outputs": [
    {
     "name": "stdout",
     "output_type": "stream",
     "text": [
      "5\n"
     ]
    }
   ],
   "source": [
    "# Example usage\n",
    "x = [22, 5, 8, 10, -3, 1]\n",
    "print(find_max_difference1(x))  # Output: 5"
   ]
  },
  {
   "cell_type": "code",
   "execution_count": 3,
   "metadata": {},
   "outputs": [],
   "source": [
    "def find_max_difference2(arr):\n",
    "    def max_difference_helper(arr, idx_l, idx_r):\n",
    "        if idx_l - 1 == idx_r:\n",
    "            min = arr[idx_l] if arr[idx_l] < arr[idx_r] else arr[idx_r]\n",
    "            max = arr[idx_r] if arr[idx_l] < arr[idx_r] else arr[idx_l]\n",
    "            return (min, max), arr[idx_r] - arr[idx_l]\n",
    "\n",
    "        mid = (idx_l + idx_r) // 2\n",
    "        (min_l, max_l), diff_l = max_difference_helper(arr, idx_l, mid)\n",
    "        (min_r, max_r), diff_r = max_difference_helper(arr, mid, idx_r)\n",
    "\n",
    "        local_min = min_l if min_l < min_r else min_r # min = min_l : min_r ? min_l < min_r\n",
    "        local_max = max_l if max_l > max_r else max_r # max = max_l : max_r ? max_l > max_r\n",
    "\n",
    "        local_diff = max(diff_l, diff_r, max_r - min_l)\n",
    "\n",
    "        return (local_min, local_max), local_diff\n",
    "\n",
    "    _, diff = max_difference_helper(arr, 0, len(arr) - 1)\n",
    "    return diff\n"
   ]
  },
  {
   "cell_type": "code",
   "execution_count": 4,
   "metadata": {},
   "outputs": [
    {
     "name": "stdout",
     "output_type": "stream",
     "text": [
      "5\n"
     ]
    }
   ],
   "source": [
    "# Example usage\n",
    "x = [22, 5, 8, 10, -3, 1]\n",
    "print(find_max_difference1(x))  # Output: 5"
   ]
  },
  {
   "cell_type": "markdown",
   "metadata": {},
   "source": [
    "### Explanation\n",
    "\n",
    "The function `find_max_difference` uses a divide-and-conquer approach to find the maximum difference between any two elements in an array. Let's analyze its time complexity step-by-step:\n",
    "\n",
    "1. **Base Case**: If the array has only two elements, the function returns the difference between them. This operation takes constant time, $O(1)$.\n",
    "2. **Divide Step**: The array is divided into two halves. This division takes constant time, $O(1)$.\n",
    "3. **Recursive Calls**: The function makes two recursive calls to process the left and right halves of the array. Each recursive call processes half of the array, so the size of the problem is reduced by half in each step.\n",
    "4. **Combine Step**: After the recursive calls, the function finds the minimum element in the left half and the maximum element in the right half. Finding the minimum and maximum elements in a subarray of size $n/2$ takes $O(n/2)$ time each. Therefore, this step takes $O(n)$ time in total.\n",
    "\n",
    "The recurrence relation for the time complexity $T(n)$ can be written as:\n",
    "$T(n) = 2T\\left(\\frac{n}{2}\\right) + O(n)$\n",
    "\n",
    "This is a standard recurrence relation for divide-and-conquer algorithms, and it can be solved using the Master Theorem. According to the Master Theorem, for a recurrence of the form:\n",
    "$T(n) = aT\\left(\\frac{n}{b}\\right) + f(n)$\n",
    "\n",
    "where $a = 2$, $b = 2$, and $f(n) = O(n)$, we compare $f(n)$ with $n^{\\log_b a}$:\n",
    "- $a = 2$\n",
    "- $b = 2$\n",
    "- $\\log_b a = \\log_2 2 = 1$\n",
    "\n",
    "Since $f(n) = O(n)$ and $n^{\\log_b a} = n$, they are equal. According to the Master Theorem, when $f(n) = O(n^{\\log_b a})$, the time complexity $T(n)$ is:\n",
    "$T(n) = O(n \\log n)$\n",
    "\n",
    "Therefore, the time complexity of the `find_max_difference` function is $O(n \\log n)$."
   ]
  },
  {
   "cell_type": "markdown",
   "metadata": {},
   "source": [
    "---"
   ]
  },
  {
   "cell_type": "code",
   "execution_count": 5,
   "metadata": {},
   "outputs": [],
   "source": [
    "def find_max_difference(arr):\n",
    "    if not arr or len(arr) < 2:\n",
    "        return float(\"-inf\")\n",
    "\n",
    "    min_so_far = arr[0]  # Keep track of minimum element seen so far\n",
    "    max_diff = float(\"-inf\")  # Keep track of maximum difference\n",
    "\n",
    "    for i in range(1, len(arr)):\n",
    "        # Update max difference if current element - min_so_far is larger\n",
    "        max_diff = max(max_diff, arr[i] - min_so_far)\n",
    "        # Update min_so_far if current element is smaller\n",
    "        min_so_far = min(min_so_far, arr[i])\n",
    "\n",
    "    return max_diff\n"
   ]
  },
  {
   "cell_type": "code",
   "execution_count": 6,
   "metadata": {},
   "outputs": [
    {
     "name": "stdout",
     "output_type": "stream",
     "text": [
      "Array: []\n",
      "Max difference: -inf\n",
      "\n",
      "Array: [1]\n",
      "Max difference: -inf\n",
      "\n",
      "Array: [1, 2]\n",
      "Max difference: 1\n",
      "\n",
      "Array: [2, 1]\n",
      "Max difference: -1\n",
      "\n",
      "Array: [22, 5, 8, 10, -3, 1]\n",
      "Max difference: 5\n",
      "\n",
      "Array: [7, 1, 5, 3, 6, 4]\n",
      "Max difference: 5\n",
      "\n",
      "Array: [1, 1, 1, 1]\n",
      "Max difference: 0\n",
      "\n",
      "Array: [-2, -5, -3, -1, -4]\n",
      "Max difference: 4\n",
      "\n"
     ]
    }
   ],
   "source": [
    "# Test cases\n",
    "test_cases = [\n",
    "    [],  # Empty array\n",
    "    [1],  # Single element\n",
    "    [1, 2],  # Increasing\n",
    "    [2, 1],  # Decreasing\n",
    "    [22, 5, 8, 10, -3, 1],  # Original example\n",
    "    [7, 1, 5, 3, 6, 4],  # Multiple peaks and valleys\n",
    "    [1, 1, 1, 1],  # All same elements\n",
    "    [-2, -5, -3, -1, -4],  # All negative numbers\n",
    "]\n",
    "\n",
    "for arr in test_cases:\n",
    "    print(f\"Array: {arr}\")\n",
    "    print(f\"Max difference: {find_max_difference(arr)}\\n\")\n"
   ]
  }
 ],
 "metadata": {
  "kernelspec": {
   "display_name": "base",
   "language": "python",
   "name": "python3"
  },
  "language_info": {
   "codemirror_mode": {
    "name": "ipython",
    "version": 3
   },
   "file_extension": ".py",
   "mimetype": "text/x-python",
   "name": "python",
   "nbconvert_exporter": "python",
   "pygments_lexer": "ipython3",
   "version": "3.12.4"
  }
 },
 "nbformat": 4,
 "nbformat_minor": 2
}
