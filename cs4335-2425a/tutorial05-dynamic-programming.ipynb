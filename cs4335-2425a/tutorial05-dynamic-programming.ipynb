{
 "cells": [
  {
   "cell_type": "markdown",
   "metadata": {},
   "source": [
    "## 1. Weighted Interval Scheduling"
   ]
  },
  {
   "cell_type": "code",
   "execution_count": 1,
   "metadata": {},
   "outputs": [],
   "source": [
    "def weighted_interval_scheduling(jobs):\n",
    "    # sort jobs by finish time\n",
    "    jobs = sorted(jobs, key=lambda x: x[1])\n",
    "    \n",
    "    # create a dp array to store the maximum\n",
    "    dp = [(0, []) for _ in range(len(jobs))]  # (value, selected_jobs)\n",
    "    \n",
    "    if len(jobs[0]) >= 3:\n",
    "        dp[0] = (jobs[0][2], [jobs[0]])\n",
    "        \n",
    "    for i in range(1, len(jobs)):\n",
    "        # Take previous best by default\n",
    "        dp[i] = dp[i - 1]\n",
    "        \n",
    "        if len(jobs[i]) >= 3:\n",
    "            # Consider including current job\n",
    "            current_value = jobs[i][2]\n",
    "            current_selection = [jobs[i]]\n",
    "            \n",
    "            # Find last compatible job\n",
    "            for j in range(i - 1, -1, -1):\n",
    "                if jobs[j][1] <= jobs[i][0]:\n",
    "                    current_value += dp[j][0]\n",
    "                    current_selection = dp[j][1] + [jobs[i]]\n",
    "                    break\n",
    "            \n",
    "            # Update if better\n",
    "            if current_value > dp[i][0]:\n",
    "                dp[i] = (current_value, current_selection)\n",
    "                \n",
    "    return dp[-1]  # (max_value, selected_jobs)"
   ]
  },
  {
   "cell_type": "code",
   "execution_count": 2,
   "metadata": {},
   "outputs": [
    {
     "name": "stdout",
     "output_type": "stream",
     "text": [
      "Maximum value: 16.5\n",
      "Selected jobs:\n",
      "Job: start=1, finish=4, weight=2\n",
      "Job: start=4, finish=7, weight=6.5\n",
      "Job: start=8, finish=11, weight=8\n"
     ]
    }
   ],
   "source": [
    "jobs1 = [\n",
    "    # (start, finish, weight)\n",
    "    (0, 6, 3.5),\n",
    "    (1, 4, 2),\n",
    "    (3, 5, 3),\n",
    "    (3, 8, 3),\n",
    "    (4, 7, 6.5),\n",
    "    (5, 9, 2.5),\n",
    "    (6, 10, 12),\n",
    "    (8, 11, 8),\n",
    "]\n",
    "\n",
    "max_value, selected_jobs = weighted_interval_scheduling(jobs1)\n",
    "print(f\"Maximum value: {max_value}\")\n",
    "print(\"Selected jobs:\")\n",
    "for job in selected_jobs:\n",
    "    print(f\"Job: start={job[0]}, finish={job[1]}, weight={job[2]}\")"
   ]
  },
  {
   "cell_type": "markdown",
   "metadata": {},
   "source": [
    "## 2. Manhattan Tourist Problem"
   ]
  }
 ],
 "metadata": {
  "kernelspec": {
   "display_name": "base",
   "language": "python",
   "name": "python3"
  },
  "language_info": {
   "codemirror_mode": {
    "name": "ipython",
    "version": 3
   },
   "file_extension": ".py",
   "mimetype": "text/x-python",
   "name": "python",
   "nbconvert_exporter": "python",
   "pygments_lexer": "ipython3",
   "version": "3.12.4"
  }
 },
 "nbformat": 4,
 "nbformat_minor": 2
}
