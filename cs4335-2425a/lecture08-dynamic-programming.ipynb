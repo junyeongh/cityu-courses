{
 "cells": [
  {
   "cell_type": "markdown",
   "metadata": {},
   "source": [
    "# Bellman-Ford algorithm\n",
    "\n",
    "2024-11-15"
   ]
  },
  {
   "cell_type": "markdown",
   "metadata": {},
   "source": [
    "## Example graphs"
   ]
  },
  {
   "cell_type": "code",
   "execution_count": 1,
   "metadata": {},
   "outputs": [],
   "source": [
    "graph1 = {\n",
    "    \"A\": {\"B\": 10, \"C\": 3},\n",
    "    \"B\": {\"C\": 1, \"D\": 2},\n",
    "    \"C\": {\"B\": 4, \"D\": 8, \"E\": 2},\n",
    "    \"D\": {\"E\": 7},\n",
    "    \"E\": {\"D\": 9},\n",
    "}\n",
    "\n",
    "start_node1 = \"A\"\n",
    "goal_node1 = \"D\""
   ]
  },
  {
   "cell_type": "code",
   "execution_count": 2,
   "metadata": {},
   "outputs": [],
   "source": [
    "graph2 = {\n",
    "    \"A\": {\"B\": 4, \"C\": -2},\n",
    "    \"B\": {\"C\": 3, \"D\": -1},\n",
    "    \"C\": {\"B\": -1, \"D\": 5, \"E\": 2},\n",
    "    \"D\": {\"E\": -3},\n",
    "    \"E\": {\"D\": 4},\n",
    "}"
   ]
  },
  {
   "cell_type": "markdown",
   "metadata": {},
   "source": [
    "## Dijkstra's algorithm"
   ]
  },
  {
   "cell_type": "code",
   "execution_count": 3,
   "metadata": {},
   "outputs": [],
   "source": [
    "def dijkstra(graph, start, end):\n",
    "    distances = {}\n",
    "    predecessor = {}\n",
    "    unseen_nodes = graph.copy()\n",
    "    infinity = float(\"inf\")\n",
    "    path = []\n",
    "    for node in unseen_nodes:\n",
    "        distances[node] = infinity\n",
    "    distances[start] = 0\n",
    "\n",
    "    while unseen_nodes:\n",
    "        min_node = None\n",
    "        for node in unseen_nodes:\n",
    "            if min_node is None:\n",
    "                min_node = node\n",
    "            elif distances[node] < distances[min_node]:\n",
    "                min_node = node\n",
    "\n",
    "        for child_node, weight in graph[min_node].items():\n",
    "            if weight + distances[min_node] < distances[child_node]:\n",
    "                distances[child_node] = weight + distances[min_node]\n",
    "                predecessor[child_node] = min_node\n",
    "        unseen_nodes.pop(min_node)\n",
    "\n",
    "    current_node = end\n",
    "    while current_node != start:\n",
    "        if current_node not in predecessor:\n",
    "            return None, float(\"inf\")\n",
    "        path.insert(0, current_node)\n",
    "        current_node = predecessor[current_node]\n",
    "    path.insert(0, start)\n",
    "\n",
    "    return path, distances[end], distances  # path, shortest distance, all distances\n"
   ]
  },
  {
   "cell_type": "code",
   "execution_count": 4,
   "metadata": {},
   "outputs": [
    {
     "name": "stdout",
     "output_type": "stream",
     "text": [
      "Shortest path from A to D: A -> C -> B -> D\n",
      "Total cost: 9\n"
     ]
    }
   ],
   "source": [
    "# Dijkstra's algorithm on graph1\n",
    "shortest_path_dj1, shortest_distance_dj1, _ = dijkstra(graph1, start_node1, goal_node1)\n",
    "\n",
    "if shortest_path_dj1:\n",
    "    print(\n",
    "        f\"Shortest path from {start_node1} to {goal_node1}: {' -> '.join(shortest_path_dj1)}\"\n",
    "    )\n",
    "    print(f\"Total cost: {shortest_distance_dj1}\")\n",
    "else:\n",
    "    print(f\"No path found from {start_node1} to {goal_node1}\")"
   ]
  },
  {
   "cell_type": "code",
   "execution_count": 5,
   "metadata": {},
   "outputs": [
    {
     "name": "stdout",
     "output_type": "stream",
     "text": [
      "Shortest path from A to D: A -> C -> B -> D\n",
      "Total cost: -4\n"
     ]
    }
   ],
   "source": [
    "# Dijkstra's algorithm on graph2\n",
    "shortest_path_dj2, shortest_distance_dj2, _ = dijkstra(graph2, start_node1, goal_node1)\n",
    "\n",
    "if shortest_path_dj2:\n",
    "    print(\n",
    "        f\"Shortest path from {start_node1} to {goal_node1}: {' -> '.join(shortest_path_dj2)}\"\n",
    "    )\n",
    "    print(f\"Total cost: {shortest_distance_dj2}\")\n",
    "else:\n",
    "    print(f\"No path found from {start_node1} to {goal_node1}\")"
   ]
  },
  {
   "cell_type": "markdown",
   "metadata": {},
   "source": [
    "## Bellman-Ford Algorithm"
   ]
  },
  {
   "cell_type": "code",
   "execution_count": 6,
   "metadata": {},
   "outputs": [],
   "source": [
    "def bellman_ford(graph, start, end):\n",
    "    # Initialize distances and predecessors\n",
    "    distances = {node: float(\"infinity\") for node in graph}\n",
    "    distances[start] = 0\n",
    "    predecessors = {node: None for node in graph}\n",
    "\n",
    "    # Relax edges |V| - 1 times\n",
    "    for _ in range(len(graph) - 1):\n",
    "        for node in graph:\n",
    "            for neighbor, weight in graph[node].items():\n",
    "                if distances[node] + weight < distances[neighbor]:\n",
    "                    distances[neighbor] = distances[node] + weight\n",
    "                    predecessors[neighbor] = node\n",
    "\n",
    "    # Check for negative cycles\n",
    "    for node in graph:\n",
    "        for neighbor, weight in graph[node].items():\n",
    "            if distances[node] + weight < distances[neighbor]:\n",
    "                raise ValueError(\"Graph contains negative cycles\")\n",
    "\n",
    "    # Reconstruct path\n",
    "    if distances[end] == float(\"infinity\"):\n",
    "        return float(\"infinity\"), [], distances\n",
    "\n",
    "    path = []\n",
    "    current_node = end\n",
    "    while current_node is not None:\n",
    "        path.append(current_node)\n",
    "        current_node = predecessors[current_node]\n",
    "    path.reverse()\n",
    "\n",
    "    return path, distances[end], distances # path, shortest distance, distances between start and other nodes"
   ]
  },
  {
   "cell_type": "code",
   "execution_count": 7,
   "metadata": {},
   "outputs": [
    {
     "name": "stdout",
     "output_type": "stream",
     "text": [
      "Shortest path from A to D: A -> C -> B -> D\n",
      "Total cost: 9\n"
     ]
    }
   ],
   "source": [
    "# Bellman-Ford algorithm on graph1\n",
    "shortest_path_bf1, shortest_distance_bf1, _ = bellman_ford(\n",
    "    graph1, start_node1, goal_node1\n",
    ")\n",
    "\n",
    "if shortest_path_bf1:\n",
    "    print(\n",
    "        f\"Shortest path from {start_node1} to {goal_node1}: {' -> '.join(shortest_path_bf1)}\"\n",
    "    )\n",
    "    print(f\"Total cost: {shortest_distance_bf1}\")\n",
    "else:\n",
    "    print(f\"No path found from {start_node1} to {goal_node1}\")"
   ]
  },
  {
   "cell_type": "code",
   "execution_count": 8,
   "metadata": {},
   "outputs": [
    {
     "name": "stdout",
     "output_type": "stream",
     "text": [
      "Shortest path from A to D: A -> C -> B -> D\n",
      "Total cost: -4\n"
     ]
    }
   ],
   "source": [
    "# Bellman-Ford algorithm on graph2\n",
    "shortest_path_bf2, shortest_distance_bf2, _ = bellman_ford(\n",
    "    graph2, start_node1, goal_node1\n",
    ")\n",
    "\n",
    "if shortest_path_bf2:\n",
    "    print(\n",
    "        f\"Shortest path from {start_node1} to {goal_node1}: {' -> '.join(shortest_path_bf2)}\"\n",
    "    )\n",
    "    print(f\"Total cost: {shortest_distance_bf2}\")\n",
    "else:\n",
    "    print(f\"No path found from {start_node1} to {goal_node1}\")"
   ]
  },
  {
   "cell_type": "code",
   "execution_count": 9,
   "metadata": {},
   "outputs": [
    {
     "name": "stdout",
     "output_type": "stream",
     "text": [
      "Shortest path from A to C: A -> B -> C\n",
      "Total cost: 2\n",
      "Distances: {'A': 0, 'B': -1, 'C': 2, 'D': -2, 'E': 1}\n"
     ]
    }
   ],
   "source": [
    "graph3 = {\n",
    "    \"A\": {\"B\": -1, \"C\": 4},\n",
    "    \"B\": {\"C\": 3, \"D\": 2, \"E\": 2},\n",
    "    \"C\": {},\n",
    "    \"D\": {\"B\": 1, \"C\": 5},\n",
    "    \"E\": {\"D\": -3},\n",
    "}\n",
    "\n",
    "# Bellman-Ford algorithm on graph3\n",
    "shortest_path_bf3, shortest_distance_bf3, distances_bf3 = bellman_ford(\n",
    "    graph3, \"A\", \"C\"\n",
    ")\n",
    "\n",
    "if shortest_path_bf3:\n",
    "    print(\n",
    "        f\"Shortest path from A to C: {' -> '.join(shortest_path_bf3)}\"\n",
    "    )\n",
    "    print(f\"Total cost: {shortest_distance_bf3}\")\n",
    "    print(f\"Distances: {distances_bf3}\")\n",
    "else:\n",
    "    print(f\"No path found from A to C\")"
   ]
  }
 ],
 "metadata": {
  "kernelspec": {
   "display_name": "base",
   "language": "python",
   "name": "python3"
  },
  "language_info": {
   "codemirror_mode": {
    "name": "ipython",
    "version": 3
   },
   "file_extension": ".py",
   "mimetype": "text/x-python",
   "name": "python",
   "nbconvert_exporter": "python",
   "pygments_lexer": "ipython3",
   "version": "3.12.4"
  }
 },
 "nbformat": 4,
 "nbformat_minor": 2
}
