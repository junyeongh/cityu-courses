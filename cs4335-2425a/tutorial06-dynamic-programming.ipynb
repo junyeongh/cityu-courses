{
 "cells": [
  {
   "cell_type": "markdown",
   "metadata": {},
   "source": [
    "# Tutorial 6 - Dynamic programming\n",
    "\n",
    "Knapsack problem - fractional knapsack problem"
   ]
  },
  {
   "cell_type": "code",
   "execution_count": 1,
   "metadata": {},
   "outputs": [],
   "source": [
    "# item = (value, weight)\n",
    "items = [\n",
    "    (1, 1),\n",
    "    (3, 2),\n",
    "    (2, 1),\n",
    "    (4, 3)\n",
    "]\n",
    "\n",
    "capacity = 5"
   ]
  },
  {
   "cell_type": "code",
   "execution_count": 2,
   "metadata": {},
   "outputs": [],
   "source": [
    "def fractional_knapsack(items, capacity):\n",
    "    items = sorted(items, key=lambda x: x[0]/x[1], reverse=True)\n",
    "    total_value = 0\n",
    "    for value, weight in items:\n",
    "        if capacity == 0:\n",
    "            break\n",
    "        amount = min(weight, capacity)\n",
    "        total_value += amount * (value/weight)\n",
    "        capacity -= amount\n",
    "    return total_value"
   ]
  },
  {
   "cell_type": "code",
   "execution_count": 3,
   "metadata": {},
   "outputs": [
    {
     "name": "stdout",
     "output_type": "stream",
     "text": [
      "7.666666666666666\n"
     ]
    }
   ],
   "source": [
    "fractional_knapsack_result = fractional_knapsack(items, capacity)\n",
    "print(fractional_knapsack_result)"
   ]
  },
  {
   "cell_type": "code",
   "execution_count": 4,
   "metadata": {},
   "outputs": [],
   "source": [
    "def zero_one_knapsack(items, capacity):\n",
    "    n = len(items)\n",
    "    dp = [[0 for _ in range(capacity+1)] for _ in range(n+1)]\n",
    "    for i in range(1, n+1):\n",
    "        for w in range(1, capacity+1):\n",
    "            value, weight = items[i-1]\n",
    "            if weight > w:\n",
    "                dp[i][w] = dp[i-1][w]\n",
    "            else:\n",
    "                dp[i][w] = max(dp[i-1][w], dp[i-1][w-weight]+value)\n",
    "    from pprint import pprint; pprint(dp)\n",
    "    return dp[n][capacity]"
   ]
  },
  {
   "cell_type": "code",
   "execution_count": 5,
   "metadata": {},
   "outputs": [
    {
     "name": "stdout",
     "output_type": "stream",
     "text": [
      "[[0, 0, 0, 0, 0, 0],\n",
      " [0, 1, 1, 1, 1, 1],\n",
      " [0, 1, 3, 4, 4, 4],\n",
      " [0, 2, 3, 5, 6, 6],\n",
      " [0, 2, 3, 5, 6, 7]]\n",
      "7\n"
     ]
    }
   ],
   "source": [
    "zero_one_knapsack_result = zero_one_knapsack(items, capacity)\n",
    "print(zero_one_knapsack_result)"
   ]
  }
 ],
 "metadata": {
  "kernelspec": {
   "display_name": "base",
   "language": "python",
   "name": "python3"
  },
  "language_info": {
   "codemirror_mode": {
    "name": "ipython",
    "version": 3
   },
   "file_extension": ".py",
   "mimetype": "text/x-python",
   "name": "python",
   "nbconvert_exporter": "python",
   "pygments_lexer": "ipython3",
   "version": "3.12.4"
  }
 },
 "nbformat": 4,
 "nbformat_minor": 2
}
