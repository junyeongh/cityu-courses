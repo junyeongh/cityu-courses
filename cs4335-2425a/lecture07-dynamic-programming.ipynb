{
 "cells": [
  {
   "cell_type": "markdown",
   "metadata": {},
   "source": [
    "## 1. Weighted Interval Scheduling"
   ]
  },
  {
   "cell_type": "code",
   "execution_count": 1,
   "metadata": {},
   "outputs": [],
   "source": [
    "def weighted_interval_scheduling(jobs):\n",
    "    # sort jobs by finish time\n",
    "    jobs = sorted(jobs, key=lambda x: x[1])\n",
    "\n",
    "    # create a dp array to store the maximum\n",
    "    dp = [0] * len(jobs)\n",
    "    if len(jobs[0]) >= 3:\n",
    "        dp[0] = jobs[0][2]\n",
    "    for i in range(1, len(jobs)):\n",
    "        if len(jobs[i]) >= 3:\n",
    "            dp[i] = max(jobs[i][2], dp[i - 1])\n",
    "        else:\n",
    "            dp[i] = dp[i - 1]\n",
    "        for j in range(i - 1, -1, -1):\n",
    "            if jobs[j][1] <= jobs[i][0]:\n",
    "                if len(jobs[i]) >= 3:\n",
    "                    dp[i] = max(dp[i], jobs[i][2] + dp[j])\n",
    "                break\n",
    "    return dp[-1]"
   ]
  },
  {
   "cell_type": "code",
   "execution_count": 2,
   "metadata": {},
   "outputs": [
    {
     "data": {
      "text/plain": [
       "20"
      ]
     },
     "execution_count": 2,
     "metadata": {},
     "output_type": "execute_result"
    }
   ],
   "source": [
    "jobs1 = [\n",
    "    # (start, finish, weight)\n",
    "    (0, 5, 10),\n",
    "    (1, 2, 5),\n",
    "    (3, 8, 15),\n",
    "    (2, 5, 7),\n",
    "    (6, 7, 8),\n",
    "    (4, 11, 12),\n",
    "    (3, 13, 6),\n",
    "    (6, 7, 8),\n",
    "]\n",
    "\n",
    "weighted_interval_scheduling(jobs1)"
   ]
  },
  {
   "cell_type": "markdown",
   "metadata": {},
   "source": [
    "## 2. Manhattan Tourist Problem"
   ]
  }
 ],
 "metadata": {
  "kernelspec": {
   "display_name": "base",
   "language": "python",
   "name": "python3"
  },
  "language_info": {
   "codemirror_mode": {
    "name": "ipython",
    "version": 3
   },
   "file_extension": ".py",
   "mimetype": "text/x-python",
   "name": "python",
   "nbconvert_exporter": "python",
   "pygments_lexer": "ipython3",
   "version": "3.12.4"
  }
 },
 "nbformat": 4,
 "nbformat_minor": 2
}
