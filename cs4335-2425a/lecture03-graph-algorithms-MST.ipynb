{
 "cells": [
  {
   "cell_type": "code",
   "execution_count": 1,
   "metadata": {},
   "outputs": [],
   "source": [
    "graph = {\n",
    "    \"A\": {\"B\": 1, \"C\": 4},\n",
    "    \"B\": {\"A\": 1, \"C\": 2, \"D\": 5},\n",
    "    \"C\": {\"A\": 4, \"B\": 2, \"D\": 1},\n",
    "    \"D\": {\"B\": 5, \"C\": 1},\n",
    "    \"E\": {\"D\": 3},\n",
    "}"
   ]
  },
  {
   "cell_type": "code",
   "execution_count": 2,
   "metadata": {},
   "outputs": [],
   "source": [
    "class DisjointSet:\n",
    "    def __init__(self, vertices):\n",
    "        self.parent = {v: v for v in vertices}\n",
    "        self.rank = {v: 0 for v in vertices}\n",
    "\n",
    "    def find(self, item):\n",
    "        if self.parent[item] == item:\n",
    "            return item\n",
    "        else:\n",
    "            self.parent[item] = self.find(self.parent[item])\n",
    "            return self.parent[item]\n",
    "\n",
    "    def union(self, set1, set2):\n",
    "        root1 = self.find(set1)\n",
    "        root2 = self.find(set2)\n",
    "\n",
    "        if root1 != root2:\n",
    "            if self.rank[root1] > self.rank[root2]:\n",
    "                self.parent[root2] = root1\n",
    "            elif self.rank[root1] < self.rank[root2]:\n",
    "                self.parent[root1] = root2\n",
    "            else:\n",
    "                self.parent[root2] = root1\n",
    "                self.rank[root1] += 1\n",
    "\n",
    "\n",
    "def minimum_spanning_tree_kruskal(graph):\n",
    "    edges = []\n",
    "    for vertex in graph:\n",
    "        for neighbor, weight in graph[vertex].items():\n",
    "            edges.append((weight, vertex, neighbor))\n",
    "    edges.sort()\n",
    "\n",
    "    disjoint_set = DisjointSet(graph.keys())\n",
    "    mst = []\n",
    "\n",
    "    for edge in edges:\n",
    "        weight, u, v = edge\n",
    "        if disjoint_set.find(u) != disjoint_set.find(v):\n",
    "            disjoint_set.union(u, v)\n",
    "            mst.append(edge)\n",
    "\n",
    "    return mst"
   ]
  },
  {
   "cell_type": "code",
   "execution_count": 3,
   "metadata": {},
   "outputs": [
    {
     "name": "stdout",
     "output_type": "stream",
     "text": [
      "[(1, 'A', 'B'), (1, 'C', 'D'), (2, 'B', 'C'), (3, 'E', 'D')]\n"
     ]
    }
   ],
   "source": [
    "print(minimum_spanning_tree_kruskal(graph))"
   ]
  }
 ],
 "metadata": {
  "kernelspec": {
   "display_name": "base",
   "language": "python",
   "name": "python3"
  },
  "language_info": {
   "codemirror_mode": {
    "name": "ipython",
    "version": 3
   },
   "file_extension": ".py",
   "mimetype": "text/x-python",
   "name": "python",
   "nbconvert_exporter": "python",
   "pygments_lexer": "ipython3",
   "version": "3.12.4"
  }
 },
 "nbformat": 4,
 "nbformat_minor": 2
}
