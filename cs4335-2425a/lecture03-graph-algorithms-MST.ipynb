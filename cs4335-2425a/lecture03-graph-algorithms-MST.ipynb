{
 "cells": [
  {
   "cell_type": "markdown",
   "metadata": {},
   "source": [
    "# Lecture 3"
   ]
  },
  {
   "cell_type": "code",
   "execution_count": 1,
   "metadata": {},
   "outputs": [],
   "source": [
    "graph = {\n",
    "    \"A\": {\"B\": 1, \"C\": 4},\n",
    "    \"B\": {\"A\": 1, \"C\": 2, \"D\": 5},\n",
    "    \"C\": {\"A\": 4, \"B\": 2, \"D\": 1},\n",
    "    \"D\": {\"B\": 5, \"C\": 1, \"E\": 3},\n",
    "    \"E\": {\"D\": 3},\n",
    "}"
   ]
  },
  {
   "cell_type": "markdown",
   "metadata": {},
   "source": [
    "## Kruskal's Algorithm"
   ]
  },
  {
   "cell_type": "code",
   "execution_count": 2,
   "metadata": {},
   "outputs": [],
   "source": [
    "class DisjointSet:\n",
    "    def __init__(self, vertices):\n",
    "        self.parent = {v: v for v in vertices}\n",
    "        self.rank = {v: 0 for v in vertices}\n",
    "\n",
    "    def find(self, item):\n",
    "        if self.parent[item] == item:\n",
    "            return item\n",
    "        else:\n",
    "            self.parent[item] = self.find(self.parent[item])\n",
    "            return self.parent[item]\n",
    "\n",
    "    def union(self, set1, set2):\n",
    "        root1 = self.find(set1)\n",
    "        root2 = self.find(set2)\n",
    "\n",
    "        if root1 != root2:\n",
    "            if self.rank[root1] > self.rank[root2]:\n",
    "                self.parent[root2] = root1\n",
    "            elif self.rank[root1] < self.rank[root2]:\n",
    "                self.parent[root1] = root2\n",
    "            else:\n",
    "                self.parent[root2] = root1\n",
    "                self.rank[root1] += 1\n",
    "\n",
    "\n",
    "def minimum_spanning_tree_kruskal(graph):\n",
    "    \"\"\"\n",
    "    Time complexity: O(|E| log |E|)\n",
    "    \"\"\"\n",
    "    edges = []\n",
    "    for vertex in graph:\n",
    "        for neighbor, weight in graph[vertex].items():\n",
    "            edges.append((weight, vertex, neighbor))\n",
    "    edges.sort()\n",
    "\n",
    "    disjoint_set = DisjointSet(graph.keys())\n",
    "    mst = []\n",
    "\n",
    "    for edge in edges:\n",
    "        weight, u, v = edge\n",
    "        if disjoint_set.find(u) != disjoint_set.find(v):\n",
    "            disjoint_set.union(u, v)\n",
    "            mst.append(edge)\n",
    "\n",
    "    return mst"
   ]
  },
  {
   "cell_type": "code",
   "execution_count": 3,
   "metadata": {},
   "outputs": [
    {
     "data": {
      "text/plain": [
       "[(1, 'A', 'B'), (1, 'C', 'D'), (2, 'B', 'C'), (3, 'D', 'E')]"
      ]
     },
     "execution_count": 3,
     "metadata": {},
     "output_type": "execute_result"
    }
   ],
   "source": [
    "minimum_spanning_tree_kruskal(graph)"
   ]
  },
  {
   "cell_type": "markdown",
   "metadata": {},
   "source": [
    "## Prim's Algorithm"
   ]
  },
  {
   "cell_type": "code",
   "execution_count": 4,
   "metadata": {},
   "outputs": [],
   "source": [
    "import heapq\n",
    "\n",
    "\n",
    "def minimum_spanning_tree_prim(graph, start_node):\n",
    "    \"\"\"\n",
    "    Time complexity: O(|E| log |V|)\n",
    "    \"\"\"\n",
    "    visited = set()\n",
    "    min_heap = [(0, start_node, None)]  # (weight, current_node, previous_node)\n",
    "    mst = []\n",
    "    while min_heap:\n",
    "        weight, node, prev = heapq.heappop(min_heap)\n",
    "\n",
    "        if node in visited:\n",
    "            continue\n",
    "\n",
    "        visited.add(node)\n",
    "\n",
    "        if prev is not None:\n",
    "            mst.append((prev, node, weight))\n",
    "\n",
    "        for neighbor, edge_weight in graph[node].items():\n",
    "            if neighbor not in visited:\n",
    "                heapq.heappush(min_heap, (edge_weight, neighbor, node))\n",
    "\n",
    "    return mst"
   ]
  },
  {
   "cell_type": "code",
   "execution_count": 5,
   "metadata": {},
   "outputs": [
    {
     "data": {
      "text/plain": [
       "[('A', 'B', 1), ('B', 'C', 2), ('C', 'D', 1), ('D', 'E', 3)]"
      ]
     },
     "execution_count": 5,
     "metadata": {},
     "output_type": "execute_result"
    }
   ],
   "source": [
    "minimum_spanning_tree_prim(graph, \"A\")"
   ]
  },
  {
   "cell_type": "markdown",
   "metadata": {},
   "source": [
    "## Challenge Problems\n",
    "\n",
    "### Problem 1\n",
    "\n",
    "Q. Consider the problem of computing a maximum spanning tree, namely the spanning tree that maximizes the sum of edge costs. Do Prim and Kruskal’s algorithm work for this problem (assuming of course that we choose the crossing edge with maximum cost)?\n",
    "\n",
    "- Both Prim's and Kruskal's algorithms can be adapted to find a maximum spanning tree (MST) instead of a minimum spanning tree. The key modification is to choose the crossing edge with the maximum cost at each step instead of the minimum cost.\n",
    "- Prim's Algorithm for Maximum Spanning Tree\n",
    "  - In Prim's algorithm, instead of using a min-heap (priority queue) to select the edge with the smallest weight, you would use a max-heap to select the edge with the largest weight. This can be achieved by inserting negative weights into a min-heap, effectively turning it into a max-heap.\n",
    "- Kruskal's Algorithm for Maximum Spanning Tree\n",
    "  - In Kruskal's algorithm, you would sort the edges in descending order of their weights instead of ascending order. Then, you would proceed to add the edges to the spanning tree, ensuring that no cycles are formed, just as in the standard Kruskal's algorithm.\n",
    "- Conclusion\n",
    "  - Both algorithms can be adapted to compute a maximum spanning tree by appropriately modifying the selection criteria for the edges.\n",
    "\n",
    "### Problem 2\n",
    "\n",
    "Q. Prove that for any weighted undirected graph such that the weights are distinct (no two edges have the same weight), the minimal spanning tree is unique.\n"
   ]
  }
 ],
 "metadata": {
  "kernelspec": {
   "display_name": "base",
   "language": "python",
   "name": "python3"
  },
  "language_info": {
   "codemirror_mode": {
    "name": "ipython",
    "version": 3
   },
   "file_extension": ".py",
   "mimetype": "text/x-python",
   "name": "python",
   "nbconvert_exporter": "python",
   "pygments_lexer": "ipython3",
   "version": "3.11.10"
  }
 },
 "nbformat": 4,
 "nbformat_minor": 2
}
