{
 "cells": [
  {
   "cell_type": "code",
   "execution_count": null,
   "metadata": {},
   "outputs": [],
   "source": [
    "def find_smallest_intervals(elements, interval_length):\n",
    "    # Step 1: Sort the list of elements\n",
    "    elements.sort()\n",
    "\n",
    "    # Step 2: Initialize variables\n",
    "    intervals = []\n",
    "    i = 0\n",
    "    n = len(elements)\n",
    "\n",
    "    # Step 3: Iterate through the list\n",
    "    while i < n:\n",
    "        # Start a new interval from the current element\n",
    "        start = elements[i]\n",
    "        end = start + interval_length\n",
    "\n",
    "        # Add the interval to the list\n",
    "        intervals.append((start, end))\n",
    "\n",
    "        # Move the index to the first element not covered by the current interval\n",
    "        while i < n and elements[i] <= end:\n",
    "            i += 1\n",
    "\n",
    "    return intervals"
   ]
  },
  {
   "cell_type": "code",
   "execution_count": null,
   "metadata": {},
   "outputs": [],
   "source": [
    "# Example usage:\n",
    "elements = [1.5, 2.0, 2.1, 5.7, 8.8, 9.1, 10.2]\n",
    "interval_length = 2\n",
    "print(find_smallest_intervals(elements, interval_length))"
   ]
  }
 ],
 "metadata": {
  "kernelspec": {
   "display_name": "base",
   "language": "python",
   "name": "python3"
  },
  "language_info": {
   "name": "python",
   "version": "3.11.10"
  }
 },
 "nbformat": 4,
 "nbformat_minor": 2
}
