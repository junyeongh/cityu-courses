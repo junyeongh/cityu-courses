{
 "cells": [
  {
   "cell_type": "markdown",
   "metadata": {},
   "source": [
    "# Tutorial 1\n",
    "\n",
    "## Exercise 1"
   ]
  },
  {
   "cell_type": "code",
   "execution_count": 1,
   "metadata": {},
   "outputs": [],
   "source": [
    "def interval_scheduler(jobs):\n",
    "    sorted_jobs = sorted(jobs, key=lambda x: x[1])\n",
    "    selected_jobs = []\n",
    "\n",
    "    for job in sorted_jobs:\n",
    "        # if job is compatible with the selected jobs\n",
    "        if not selected_jobs or job[0] >= selected_jobs[-1][1]:\n",
    "            # then add it to the selected jobs\n",
    "            selected_jobs.append(job)\n",
    "\n",
    "    return selected_jobs"
   ]
  },
  {
   "cell_type": "code",
   "execution_count": 2,
   "metadata": {},
   "outputs": [
    {
     "data": {
      "text/plain": [
       "[(1, 2), (2, 5), (6, 7)]"
      ]
     },
     "execution_count": 2,
     "metadata": {},
     "output_type": "execute_result"
    }
   ],
   "source": [
    "jobs1 = [\n",
    "    (0, 5),\n",
    "    (1, 2),\n",
    "    (3, 8),\n",
    "    (2, 5),\n",
    "    (6, 7),\n",
    "    (4, 11),\n",
    "    (3, 13),\n",
    "    (6, 7),\n",
    "]\n",
    "\n",
    "interval_scheduler(jobs1)"
   ]
  },
  {
   "cell_type": "markdown",
   "metadata": {},
   "source": [
    "## Exercise 2"
   ]
  },
  {
   "cell_type": "code",
   "execution_count": 3,
   "metadata": {},
   "outputs": [],
   "source": [
    "def interval_partitioning(jobs):\n",
    "    sorted_jobs = sorted(jobs, key=lambda x: x[0])\n",
    "    partitions = []\n",
    "\n",
    "    for job in sorted_jobs:\n",
    "        # find the first partition that job can fit in\n",
    "        for partition in partitions:\n",
    "            if job[0] >= partition[-1][1]:\n",
    "                partition.append(job)\n",
    "                break\n",
    "        else:\n",
    "            partitions.append([job])\n",
    "\n",
    "    return partitions"
   ]
  },
  {
   "cell_type": "code",
   "execution_count": 4,
   "metadata": {},
   "outputs": [
    {
     "name": "stdout",
     "output_type": "stream",
     "text": [
      "[(1, 2), (2, 3), (3, 6)]\n",
      "[(2, 7)]\n",
      "[(4, 6)]\n",
      "[(5, 7)]\n",
      "[(5, 8)]\n"
     ]
    }
   ],
   "source": [
    "jobs2 = [\n",
    "    (5, 7),\n",
    "    (2, 3),\n",
    "    (1, 2),\n",
    "    (2, 7),\n",
    "    (3, 6),\n",
    "    (5, 8),\n",
    "    (4, 6),\n",
    "]\n",
    "\n",
    "for i in interval_partitioning(jobs2):\n",
    "    print(i)"
   ]
  }
 ],
 "metadata": {
  "kernelspec": {
   "display_name": "base",
   "language": "python",
   "name": "python3"
  },
  "language_info": {
   "codemirror_mode": {
    "name": "ipython",
    "version": 3
   },
   "file_extension": ".py",
   "mimetype": "text/x-python",
   "name": "python",
   "nbconvert_exporter": "python",
   "pygments_lexer": "ipython3",
   "version": "3.12.4"
  }
 },
 "nbformat": 4,
 "nbformat_minor": 2
}
