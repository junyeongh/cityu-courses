{
 "cells": [
  {
   "cell_type": "code",
   "execution_count": null,
   "id": "4de79eee",
   "metadata": {},
   "outputs": [
    {
     "name": "stdout",
     "output_type": "stream",
     "text": [
      "[0.5        0.5        0.03225806 ... 0.14285714 0.14285714 0.14285714]\n",
      "[  6547  15408  17793 ... 216687 256538 260898]\n",
      "[      0       2      33 ... 2312483 2312490 2312497]\n",
      "[3.54731947e-06 3.54731947e-06 3.54731947e-06 ... 3.54731947e-06\n",
      " 3.54731947e-06 3.54731947e-06]\n"
     ]
    }
   ],
   "source": [
    "import numpy as np\n",
    "import pickle\n",
    "\n",
    "# load our CSR matrix\n",
    "f = open(\"v.pickle\", \"rb\")\n",
    "v = pickle.load(f)\n",
    "f = open(\"COL_INDEX.pickle\", \"rb\")\n",
    "COL_INDEX = pickle.load(f)\n",
    "f = open(\"ROW_INDEX.pickle\", \"rb\")\n",
    "ROW_INDEX = pickle.load(f)\n",
    "\n",
    "print(v)\n",
    "print(COL_INDEX)\n",
    "print(ROW_INDEX)\n",
    "\n",
    "num_nodes = len(ROW_INDEX) - 1\n",
    "pi = np.ones(num_nodes) / num_nodes\n",
    "print(pi)\n",
    "\n",
    "alpha = 0.01\n",
    "second_term = alpha * np.ones(num_nodes) / num_nodes\n",
    "while True:\n",
    "    new_pi = np.zeros(num_nodes)\n",
    "    # (1-alpha)P * pi + alpha 1/n\n",
    "    for i in range(len(ROW_INDEX) - 1):\n",
    "        row_index_start = ROW_INDEX[i]\n",
    "        row_index_end = ROW_INDEX[i + 1]\n",
    "\n",
    "        for j in range(row_index_start, row_index_end):\n",
    "            col = COL_INDEX[j]\n",
    "            value = v[j]\n",
    "            new_pi[i] += value * pi[col]\n",
    "    new_pi = new_pi * (1 - alpha) + second_term * pi\n",
    "\n",
    "    # check convergence by L1-distance(a, b) = sum_i |a_i - b_i|\n",
    "    if np.sum(np.abs(new_pi - pi)) < 1e-4:\n",
    "        break\n",
    "    else:\n",
    "        pi = new_pi\n",
    "\n",
    "print(pi)\n",
    "\n",
    "f = open(\"pi.pickle\", \"wb\")\n",
    "pickle.dump(pi, f)\n"
   ]
  },
  {
   "cell_type": "code",
   "execution_count": null,
   "id": "b1e9e5fb",
   "metadata": {},
   "outputs": [],
   "source": []
  }
 ],
 "metadata": {
  "kernelspec": {
   "display_name": "Python 3 (ipykernel)",
   "language": "python",
   "name": "python3"
  },
  "language_info": {
   "codemirror_mode": {
    "name": "ipython",
    "version": 3
   },
   "file_extension": ".py",
   "mimetype": "text/x-python",
   "name": "python",
   "nbconvert_exporter": "python",
   "pygments_lexer": "ipython3",
   "version": "3.9.13"
  }
 },
 "nbformat": 4,
 "nbformat_minor": 5
}
