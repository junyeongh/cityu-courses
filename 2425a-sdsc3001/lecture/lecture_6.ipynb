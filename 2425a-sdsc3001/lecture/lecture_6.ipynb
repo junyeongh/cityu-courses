{
 "cells": [
  {
   "cell_type": "markdown",
   "metadata": {},
   "source": [
    "# Lecture 6 - Stream Algorithms I: Sampling & Sketching"
   ]
  },
  {
   "cell_type": "markdown",
   "metadata": {},
   "source": [
    "## Reservoir Sampling"
   ]
  },
  {
   "cell_type": "code",
   "execution_count": 1,
   "metadata": {},
   "outputs": [
    {
     "name": "stdout",
     "output_type": "stream",
     "text": [
      "[462, 333, 927, 913, 209, 641, 532, 955, 665, 325]\n"
     ]
    }
   ],
   "source": [
    "import random\n",
    "\n",
    "def reservoir_sampling(stream, k):\n",
    "    # Initialize the reservoir\n",
    "    reservoir = []\n",
    "    \n",
    "    # Store the first k items\n",
    "    for i in range(k):\n",
    "        reservoir.append(stream[i])\n",
    "    \n",
    "    # Process the rest of the stream\n",
    "    for i in range(k, len(stream)):\n",
    "        # Decide whether to replace an element in the reservoir with the current element\n",
    "        j = random.randrange(i + 1)\n",
    "        \n",
    "        # If j is less than k, replace the element at index j\n",
    "        if j < k:\n",
    "            reservoir[j] = stream[i]\n",
    "            \n",
    "    return reservoir\n",
    "\n",
    "# Example usage\n",
    "stream = list(range(1000))  # Large data stream\n",
    "sample = reservoir_sampling(stream, 10)  # Extract 10 samples\n",
    "print(sample)"
   ]
  },
  {
   "cell_type": "markdown",
   "metadata": {},
   "source": [
    "## Priority Sampling for Sliding Windows"
   ]
  },
  {
   "cell_type": "code",
   "execution_count": null,
   "metadata": {},
   "outputs": [],
   "source": [
    "# To be added"
   ]
  }
 ],
 "metadata": {
  "kernelspec": {
   "display_name": "base",
   "language": "python",
   "name": "python3"
  },
  "language_info": {
   "codemirror_mode": {
    "name": "ipython",
    "version": 3
   },
   "file_extension": ".py",
   "mimetype": "text/x-python",
   "name": "python",
   "nbconvert_exporter": "python",
   "pygments_lexer": "ipython3",
   "version": "3.12.4"
  }
 },
 "nbformat": 4,
 "nbformat_minor": 2
}
