{
 "cells": [
  {
   "cell_type": "markdown",
   "metadata": {},
   "source": [
    "# SDSC3001 - Assignment 3\n"
   ]
  },
  {
   "cell_type": "markdown",
   "metadata": {},
   "source": [
    "## Question 1"
   ]
  },
  {
   "cell_type": "code",
   "execution_count": null,
   "metadata": {},
   "outputs": [],
   "source": [
    "import random\n",
    "\n",
    "\n",
    "def reservoir_sampling(k, stream):\n",
    "    reservoir = []\n",
    "    for i, item in enumerate(stream):\n",
    "        if i < k:\n",
    "            # Fill reservoir until we have k items\n",
    "            reservoir.append(item)\n",
    "        else:\n",
    "            # Randomly decide whether to replace an item\n",
    "            j = random.randint(0, i)  # Probability of keeping new item: k/(i+1)\n",
    "            if j < k:\n",
    "                reservoir[j] = item\n",
    "\n",
    "    return reservoir"
   ]
  },
  {
   "cell_type": "code",
   "execution_count": null,
   "metadata": {},
   "outputs": [],
   "source": [
    "stream = range(1000)  # Simulate a data stream\n",
    "sample_size = 5\n",
    "result = reservoir_sampling(sample_size, stream)\n",
    "print(f\"Random sample of {sample_size} items:\", result)"
   ]
  },
  {
   "cell_type": "markdown",
   "metadata": {},
   "source": [
    "### Proof of correctness\n",
    "\n",
    "Maintaining $k$ uniform samples from a streaming set guarantees at any time point $t \\ge k$, the probability of any element already possessed from the sampling set is $\\frac{k}{t}$, which can be proven inductively.\n",
    "\n",
    "When $t = k$, the reservoir is filled with the first $k$ elements and each of these $k$ elements in the reservoir with probability 1.\n",
    "\n",
    "Assume that after filling first $k$ element and processing $t - 1$ elements, each element $x_i$ is in the reservoir with the probability of $\\frac{k}{t-1}$. Then, considering the $t$-th element $x_t$, if the probability of $x_t$ being in the reservoir (not replaced by $x_t$, in other words) is $1-\\frac{1}{t}$.\n",
    "\n",
    "Therefore, the probability that $x_i$ is kept as a sample is the product of these two probability. $\\frac{k}{t-1} \\cdot (1-\\frac{1}{t}) = \\frac{k}{t}$."
   ]
  },
  {
   "cell_type": "markdown",
   "metadata": {},
   "source": [
    "## Question 2"
   ]
  },
  {
   "cell_type": "markdown",
   "metadata": {},
   "source": [
    "### Part A\n",
    "\n",
    "When an itemset $I$ has a size of $m$, there are $2^m -1$ possible subsets. When mining top-$k$ most frequent patterns, \n",
    "\n",
    "$$\n",
    "2^m - 1 \\leq k \\\\\n",
    "2^m \\leq k + 1 \\\\\n",
    "m \\leq \\log_2(k + 1) \\\\\n",
    "\\therefore m = \\lceil \\log_2(k + 1) \\rceil\n",
    "$$"
   ]
  },
  {
   "cell_type": "markdown",
   "metadata": {},
   "source": [
    "### Part B\n",
    "\n",
    "#### b.1\n",
    "\n",
    "#### b.2\n",
    "\n",
    "#### b.3\n",
    "\n",
    "#### b.4\n",
    "Question B4:\n",
    "\n",
    "Set $k=500$. Run your Misra–Gries Algorithm on the \"trans.txt\" dataset and report the values of $L$ and $minSup(A)$ when setting $C=500000, 750000, 1000000$. To compute $minSub(A)$, you can refer to the file \"patterns_Apriori.txt\" containing all the frequent patterns of support at least $21$. Each line of \"patterns_Apriori.txt\" is in the form $id_1,id_2,...,id_l:sup$, where $id_1,id_2,...,id_l$ denotes a pattern $\\{id_1,id_2,...,id_l\\}$ and $sup$ is the support of this pattern. (Hint: the file \"patterns_Apriori.txt\" contains enough information. If your algorithm returns some pattern that is not in the \"patterns_Apriori.txt\" file, probably your algorithm is not implemented correctly.)"
   ]
  },
  {
   "cell_type": "code",
   "execution_count": null,
   "metadata": {},
   "outputs": [],
   "source": [
    "import sys\n",
    "import math\n",
    "from collections import Counter\n",
    "from itertools import combinations\n",
    "\n",
    "\n",
    "class FrequenctPatterns:\n",
    "    def __init__(self):\n",
    "        self.transactions = []\n",
    "        self.patterns = {}\n",
    "\n",
    "        # def load_data(self):\n",
    "        with open(\"trans.txt\") as f:\n",
    "            for line in f:\n",
    "                transaction = list(map(int, line.split()))\n",
    "                self.transactions.append(transaction)\n",
    "\n",
    "        with open(\"patterns_Apriori.txt\") as f:\n",
    "            for line in f:\n",
    "                key, value = line.strip().split(\":\")\n",
    "                key = tuple(sorted(map(int, key.split(\",\"))))\n",
    "                self.patterns[key] = int(value)\n",
    "\n",
    "    def Misra_Gries(self, C, k=500):\n",
    "        m = math.ceil(math.log2(k + 1))  # maximum size of patterns we need to consider\n",
    "        L = 0  # number of subsets in transactions processed\n",
    "\n",
    "        counter = Counter()  # pattern frequency counter\n",
    "\n",
    "        # Upon receiving a_t, check if there is a counter for a_t\n",
    "        for transaction in self.transactions:\n",
    "            subsets = []  # transaction subsets\n",
    "            for i in range(1, min(m, len(transaction)) + 1):\n",
    "                subsets.extend(tuple(sorted(c)) for c in combinations(transaction, i))\n",
    "            L += len(subsets)\n",
    "\n",
    "            for subset in subsets:\n",
    "                # if there is one, increment the counter\n",
    "                # if there isn't one,\n",
    "                #     and there is at least one counter available, use an available counter to count a_t\n",
    "                #     and there is no available counter, decrement all counters by 1\n",
    "                #\n",
    "                # if subset in counter:\n",
    "                #     counter[subset] += 1\n",
    "                # else:\n",
    "                #     if len(counter) < C:\n",
    "                #         counter[subset] = 1\n",
    "                #     else:\n",
    "                #         for key in list(counter.keys()):\n",
    "                #             counter[key] -= 1\n",
    "                #             if counter[key] == 0:\n",
    "                #                 del counter[key]\n",
    "                if subset in counter or len(counter) < C:\n",
    "                    counter[subset] += 1\n",
    "                else:\n",
    "                    for key in list(counter.keys()):\n",
    "                        counter[key] -= 1\n",
    "                        if counter[key] == 0:\n",
    "                            del counter[key]\n",
    "\n",
    "        counter_sorted = counter.most_common()\n",
    "        threshold = counter_sorted[k - 1][1] - L / (C + 1)\n",
    "        A = list(filter(lambda x: x[1] >= threshold, counter_sorted))  # filtered patterns\n",
    "\n",
    "        min_sup = sys.maxsize\n",
    "        min_pattern = \"\"\n",
    "        for item, _ in A:\n",
    "            if self.patterns[item] < min_sup:\n",
    "                min_sup = self.patterns[item]\n",
    "                min_pattern = item\n",
    "\n",
    "        return L, min_sup, min_pattern"
   ]
  },
  {
   "cell_type": "code",
   "execution_count": null,
   "metadata": {},
   "outputs": [],
   "source": [
    "frequent_patterns = FrequenctPatterns()"
   ]
  },
  {
   "cell_type": "code",
   "execution_count": null,
   "metadata": {},
   "outputs": [],
   "source": [
    "for count in [500_000, 750_000, 1_000_000]:\n",
    "    L, min_sup, min_pattern = frequent_patterns.Misra_Gries(count)\n",
    "    print(f\"C = {count}; value of {L = }, {min_sup = }, {min_pattern = }\")"
   ]
  }
 ],
 "metadata": {
  "kernelspec": {
   "display_name": "base",
   "language": "python",
   "name": "python3"
  },
  "language_info": {
   "codemirror_mode": {
    "name": "ipython",
    "version": 3
   },
   "file_extension": ".py",
   "mimetype": "text/x-python",
   "name": "python",
   "nbconvert_exporter": "python",
   "pygments_lexer": "ipython3",
   "version": "3.12.4"
  }
 },
 "nbformat": 4,
 "nbformat_minor": 4
}
