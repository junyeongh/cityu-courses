{
 "cells": [
  {
   "cell_type": "markdown",
   "metadata": {},
   "source": [
    "# SDSC3001 - Assignment 3\n"
   ]
  },
  {
   "cell_type": "markdown",
   "metadata": {},
   "source": [
    "## Question 1"
   ]
  },
  {
   "cell_type": "code",
   "execution_count": 1,
   "metadata": {},
   "outputs": [],
   "source": [
    "import random\n",
    "\n",
    "\n",
    "def reservoir_sampling(k, stream):\n",
    "    reservoir = []\n",
    "    for i, item in enumerate(stream):\n",
    "        if i < k:\n",
    "            # Fill reservoir until we have k items\n",
    "            reservoir.append(item)\n",
    "        else:\n",
    "            # Randomly decide whether to replace an item\n",
    "            j = random.randint(0, i)  # Probability of keeping new item: k/(i+1)\n",
    "            if j < k:\n",
    "                reservoir[j] = item\n",
    "\n",
    "    return reservoir"
   ]
  },
  {
   "cell_type": "code",
   "execution_count": 2,
   "metadata": {},
   "outputs": [
    {
     "name": "stdout",
     "output_type": "stream",
     "text": [
      "Random sample of 5 items: [405, 708, 311, 138, 409]\n"
     ]
    }
   ],
   "source": [
    "stream = range(1000)  # Simulate a data stream\n",
    "sample_size = 5\n",
    "result = reservoir_sampling(sample_size, stream)\n",
    "print(f\"Random sample of {sample_size} items:\", result)"
   ]
  },
  {
   "cell_type": "markdown",
   "metadata": {},
   "source": [
    "### Proof of correctness\n",
    "\n",
    "Maintaining $k$ uniform samples from a streaming set guarantees at any time point $t \\ge k$, the probability of any element already possessed from the sampling set is $\\frac{k}{t}$, which can be proven inductively.\n",
    "\n",
    "When $t = k$, the reservoir is filled with the first $k$ elements and each of these $k$ elements in the reservoir with probability 1.\n",
    "\n",
    "Assume that after filling first $k$ element and processing $t - 1$ elements, each element $x_i$ is in the reservoir with the probability of $\\frac{k}{t-1}$. Then, considering the $t$-th element $x_t$, if the probability of $x_t$ being in the reservoir (not replaced by $x_t$, in other words) is $1-\\frac{1}{t}$.\n",
    "\n",
    "Therefore, the probability that $x_i$ is kept as a sample is the product of these two probability. $\\frac{k}{t-1} \\cdot (1-\\frac{1}{t}) = \\frac{k}{t}$."
   ]
  },
  {
   "cell_type": "markdown",
   "metadata": {},
   "source": [
    "## Question 2"
   ]
  },
  {
   "cell_type": "markdown",
   "metadata": {},
   "source": [
    "### Part A\n",
    "\n",
    "When an itemset $I$ has a size of $m$, there are $2^m -1$ possible subsets. When mining top-$k$ most frequent patterns, \n",
    "\n",
    "$$\n",
    "2^m - 1 \\leq k \\\\\n",
    "2^m \\leq k + 1 \\\\\n",
    "m \\leq \\log_2(k + 1) \\\\\n",
    "\\therefore m = \\lceil \\log_2(k + 1) \\rceil\n",
    "$$"
   ]
  },
  {
   "cell_type": "markdown",
   "metadata": {},
   "source": [
    "### Part B\n",
    "\n",
    "#### b.1\n",
    "\n",
    "To prove $f_S \\geq \\hat{f}_S \\geq f_S-\\frac{L}{C+1}$ for any pattern S, where:\n",
    "\n",
    "- $f_S$ is the real support of pattern S\n",
    "- $\\hat{f}_S$ is the approximate support from Misra-Gries\n",
    "- $L$ is total number of subsets across all transactions\n",
    "- $C$ is number of counters\n",
    "\n",
    "First, $f_S \\geq \\hat{f}_S$ is trivial since Misra-Gries algorithm never overestimates the frequency of any item, as it either increments a counter of decrements of all counters.\n",
    "\n",
    "Next, for $\\hat{f}_S \\geq f_S-\\frac{L}{C+1}$, each decrement operation in Miscra-Gries affects at most C+1 counters, so the total number of decrements cannot exceed $\\frac{L}{C+1}$, and maximum error for any patter is bounded by total decrements. Therefore, $f_S - \\hat{f}_S \\leq \\frac{L}{C+1}$, which is equal to $\\hat{f}_S \\geq f_S-\\frac{L}{C+1}$.\n",
    "\n",
    "#### b.2\n",
    "\n",
    "The inequality $f_{S^k} \\geq \\hat{f}^k \\geq f_{S^k}-\\frac{L}{C+1}$ where \n",
    "\n",
    "- $S^k$ is the real k-th most frequent pattern\n",
    "- $\\hat{f}^k$ is the k-th largest approximate support\n",
    "\n",
    "can be proven similarly to the previous example. First, $f_{S^k} \\geq \\hat{f}^k$ is trivial. Next, for $\\hat{f}^k \\geq f_{S^k}-\\frac{L}{C+1}$, we know that $\\hat{f}_{S^k} \\geq f_{S^k}-\\frac{L}{C+1}$ as $\\hat{f}^k$ is the k-th largest approximate support and $\\hat{f}_{S^k}$ is just one of the approximate supports. Therefore, similar to the previous example, each decrement operation is bounded by $\\frac{L}{C+1}$.\n",
    "\n",
    "#### b.3\n",
    "\n",
    "(1) If $f_S \\geq f_{S^k}$, as we know the approximation error $f_S - \\hat{f}_S \\leq \\frac{L}{C+1}$, and $\\frac{L}{C+1}$ is a constant, $\\hat{f}_S$ is always less than or equal to $f_{S^k}$ (= $\\hat{f}_S \\leq f_{S^k}, \\therefore S \\in A$).\n",
    "\n",
    "(2) $\\hat{f}_S \\geq t = \\hat{f}^k - \\frac{L}{C+1}$ for any pattern in $A$. From b.1, we know that $f_S \\geq \\hat{f}_S$ and we know $\\hat{f}^k \\geq f_{S^k} - \\frac{L}{C+1}$ from b.2.\n",
    "\n",
    "\n",
    "- $\\hat{f}_S \\geq \\hat{f}^k - \\frac{L}{C+1} \\dots 1$\n",
    "- $f_S \\geq \\hat{f}_S \\dots 2$\n",
    "- $\\hat{f}^k \\geq f_{S^k} - \\frac{L}{C+1} \\dots 3$\n",
    "\n",
    "By combining inequalities 1 and 2, $f_S \\geq \\hat{f}^k - \\frac{L}{C+1}$, and combining this with inequality 3, $f_S \\geq f_{S^k} - \\frac{2L}{C+1}$.\n",
    "\n",
    "#### b.4"
   ]
  },
  {
   "cell_type": "code",
   "execution_count": 3,
   "metadata": {},
   "outputs": [],
   "source": [
    "import math\n",
    "import sys\n",
    "from collections import Counter\n",
    "from itertools import combinations\n",
    "\n",
    "\n",
    "class FrequenctPatterns:\n",
    "    def __init__(self):\n",
    "        self.transactions = []\n",
    "        self.patterns = {}\n",
    "\n",
    "        # def load_data(self):\n",
    "        with open(\"trans.txt\") as f:\n",
    "            for line in f:\n",
    "                transaction = list(map(int, line.split()))\n",
    "                self.transactions.append(transaction)\n",
    "\n",
    "        with open(\"patterns_Apriori.txt\") as f:\n",
    "            for line in f:\n",
    "                key, value = line.strip().split(\":\")\n",
    "                # key = tuple(sorted(map(int, key.split(\",\"))))\n",
    "                key = frozenset(map(int, key.split(\",\")))\n",
    "                self.patterns[key] = int(value)\n",
    "\n",
    "    def Misra_Gries(self, C, k=500):\n",
    "        m = math.ceil(math.log2(k + 1))  # maximum size of patterns we need to consider\n",
    "        L = 0  # number of subsets in transactions processed\n",
    "\n",
    "        counter = Counter()  # pattern frequency counter\n",
    "\n",
    "        # Upon receiving a_t, check if there is a counter for a_t\n",
    "        for transaction in self.transactions:\n",
    "            subsets = []  # transaction subsets\n",
    "            for i in range(1, min(m, len(transaction)) + 1):\n",
    "                # subsets.extend(tuple(sorted(c)) for c in combinations(transaction, i))\n",
    "                subsets.extend(frozenset(c) for c in combinations(transaction, i))\n",
    "            L += len(subsets)\n",
    "\n",
    "            for subset in subsets:\n",
    "                if subset in counter or len(counter) < C:\n",
    "                    counter[subset] += 1\n",
    "                else:\n",
    "                    for key in list(counter.keys()):\n",
    "                        counter[key] -= 1\n",
    "                        if counter[key] == 0:\n",
    "                            del counter[key]\n",
    "        counter_sorted = counter.most_common()\n",
    "\n",
    "        # threshold t = \\hat{f}^k - \\frac{L}{C + 1}\n",
    "        threshold = counter_sorted[k - 1][1] - L / (C + 1)\n",
    "        # filtered patterns: \\hat{f}_s \\ge t\n",
    "        A = list(filter(lambda x: x[1] >= threshold, counter_sorted))\n",
    "\n",
    "        min_sup = sys.maxsize\n",
    "        min_pattern = frozenset()\n",
    "        for item, _ in A:\n",
    "            if self.patterns[item] < min_sup:\n",
    "                min_sup = self.patterns[item]\n",
    "                min_pattern = item\n",
    "\n",
    "        return L, min_sup, min_pattern"
   ]
  },
  {
   "cell_type": "code",
   "execution_count": 4,
   "metadata": {},
   "outputs": [],
   "source": [
    "                # if there is one, increment the counter\n",
    "                # if there isn't one,\n",
    "                #     and there is at least one counter available, use an available counter to count a_t\n",
    "                #     and there is no available counter, decrement all counters by 1\n",
    "                #\n",
    "                # if subset in counter:\n",
    "                #     counter[subset] += 1\n",
    "                # else:\n",
    "                #     if len(counter) < C:\n",
    "                #         counter[subset] = 1\n",
    "                #     else:\n",
    "                #         for key in list(counter.keys()):\n",
    "                #             counter[key] -= 1\n",
    "                #             if counter[key] == 0:\n",
    "                #                 del counter[key]"
   ]
  },
  {
   "cell_type": "code",
   "execution_count": 5,
   "metadata": {},
   "outputs": [],
   "source": [
    "frequent_patterns = FrequenctPatterns()"
   ]
  },
  {
   "cell_type": "code",
   "execution_count": 6,
   "metadata": {},
   "outputs": [
    {
     "name": "stdout",
     "output_type": "stream",
     "text": [
      "C = 500000; value of L = 59340244, min_sup = 1037, min_pattern = frozenset({829})\n",
      "C = 750000; value of L = 59340244, min_sup = 1077, min_pattern = frozenset({77, 151})\n",
      "C = 1000000; value of L = 59340244, min_sup = 1098, min_pattern = frozenset({24, 468})\n"
     ]
    }
   ],
   "source": [
    "for count in [500_000, 750_000, 1_000_000]:\n",
    "    L, min_sup, min_pattern = frequent_patterns.Misra_Gries(count)\n",
    "    print(f\"C = {count}; value of {L = }, {min_sup = }, {min_pattern = }\")"
   ]
  }
 ],
 "metadata": {
  "kernelspec": {
   "display_name": "Python 3 (ipykernel)",
   "language": "python",
   "name": "python3"
  },
  "language_info": {
   "codemirror_mode": {
    "name": "ipython",
    "version": 3
   },
   "file_extension": ".py",
   "mimetype": "text/x-python",
   "name": "python",
   "nbconvert_exporter": "python",
   "pygments_lexer": "ipython3",
   "version": "3.11.10"
  }
 },
 "nbformat": 4,
 "nbformat_minor": 4
}
