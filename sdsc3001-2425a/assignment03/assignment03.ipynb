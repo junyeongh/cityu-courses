{
 "cells": [
  {
   "cell_type": "markdown",
   "metadata": {},
   "source": [
    "# SDSC3001 - Assignment 3\n"
   ]
  },
  {
   "cell_type": "markdown",
   "metadata": {},
   "source": [
    "## Question 1"
   ]
  },
  {
   "cell_type": "code",
   "execution_count": null,
   "metadata": {},
   "outputs": [],
   "source": [
    "# sampling algorithm\n",
    "\n",
    "# proof of correctness"
   ]
  },
  {
   "cell_type": "markdown",
   "metadata": {},
   "source": [
    "## Question 2"
   ]
  },
  {
   "cell_type": "markdown",
   "metadata": {},
   "source": [
    "### Part A\n",
    "\n",
    "When an itemset $I$ has a size of $m$, there are $2^m -1$ possible subsets. When mining top-$k$ most frequent patterns, \n",
    "\n",
    "$$\n",
    "2^m - 1 \\leq k \\\\\n",
    "2^m \\leq k + 1 \\\\\n",
    "m \\leq \\log_2(k + 1) \\\\\n",
    "\\therefore m = \\lceil \\log_2(k + 1) \\rceil\n",
    "$$"
   ]
  },
  {
   "cell_type": "markdown",
   "metadata": {},
   "source": [
    "### Part B\n",
    "\n",
    "#### b.1\n",
    "\n",
    "#### b.2\n",
    "\n",
    "#### b.3\n",
    "\n",
    "#### b.4\n",
    "Question B4:\n",
    "\n",
    "Set $k=500$. Run your Misra–Gries Algorithm on the \"trans.txt\" dataset and report the values of $L$ and $minSup(A)$ when setting $C=500000, 750000, 1000000$. To compute $minSub(A)$, you can refer to the file \"patterns_Apriori.txt\" containing all the frequent patterns of support at least $21$. Each line of \"patterns_Apriori.txt\" is in the form $id_1,id_2,...,id_l:sup$, where $id_1,id_2,...,id_l$ denotes a pattern $\\{id_1,id_2,...,id_l\\}$ and $sup$ is the support of this pattern. (Hint: the file \"patterns_Apriori.txt\" contains enough information. If your algorithm returns some pattern that is not in the \"patterns_Apriori.txt\" file, probably your algorithm is not implemented correctly.)"
   ]
  },
  {
   "cell_type": "code",
   "execution_count": null,
   "metadata": {},
   "outputs": [],
   "source": [
    "import numpy as np\n",
    "import polars as pl\n",
    "import math\n",
    "from collections import Counter\n",
    "from itertools import combinations"
   ]
  },
  {
   "cell_type": "code",
   "execution_count": null,
   "metadata": {},
   "outputs": [],
   "source": [
    "class FrequenctPatterns:\n",
    "    def __init__(self):\n",
    "        self.transactions = []\n",
    "        self.patterns = {}\n",
    "\n",
    "    def load_data(self):\n",
    "        with open(\"trans.txt\") as f:\n",
    "            for line in f:\n",
    "                transaction = list(map(int, line.split()))\n",
    "                self.transactions.append(transaction)\n",
    "\n",
    "        with open(\"patterns_Apriori.txt\") as f:\n",
    "            for line in f:\n",
    "                key, value = line.strip().split(\":\")\n",
    "                key = tuple(map(int, key.split(\",\")))\n",
    "                self.patterns[key] = int(value)\n",
    "\n",
    "    def Misra_Gries(self, C, k=500): ..."
   ]
  },
  {
   "cell_type": "code",
   "execution_count": null,
   "metadata": {},
   "outputs": [],
   "source": [
    "frequent_patterns = FrequenctPatterns()\n",
    "frequent_patterns.load_data()"
   ]
  },
  {
   "cell_type": "code",
   "execution_count": null,
   "metadata": {},
   "outputs": [],
   "source": [
    "for count in [500_000, 750_000, 1_000_000]:\n",
    "    frequent_patterns.Misra_Gries(count)"
   ]
  }
 ],
 "metadata": {
  "kernelspec": {
   "display_name": "base",
   "language": "python",
   "name": "python3"
  },
  "language_info": {
   "codemirror_mode": {
    "name": "ipython",
    "version": 3
   },
   "file_extension": ".py",
   "mimetype": "text/x-python",
   "name": "python",
   "nbconvert_exporter": "python",
   "pygments_lexer": "ipython3",
   "version": "3.11.10"
  }
 },
 "nbformat": 4,
 "nbformat_minor": 2
}
