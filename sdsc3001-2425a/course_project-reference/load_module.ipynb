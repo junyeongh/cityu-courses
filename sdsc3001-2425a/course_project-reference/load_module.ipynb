{
 "cells": [
  {
   "cell_type": "code",
   "execution_count": 1,
   "metadata": {},
   "outputs": [],
   "source": [
    "# from load_module import playground\n",
    "\n",
    "# playground = Playground()\n",
    "# print(playground.can_you_load)"
   ]
  },
  {
   "cell_type": "code",
   "execution_count": 2,
   "metadata": {},
   "outputs": [
    {
     "data": {
      "text/plain": [
       "['/home/yeong/anaconda3/lib/python312.zip',\n",
       " '/home/yeong/anaconda3/lib/python3.12',\n",
       " '/home/yeong/anaconda3/lib/python3.12/lib-dynload',\n",
       " '',\n",
       " '/home/yeong/anaconda3/lib/python3.12/site-packages',\n",
       " '/home/yeong/anaconda3/lib/python3.12/site-packages/setuptools/_vendor']"
      ]
     },
     "execution_count": 2,
     "metadata": {},
     "output_type": "execute_result"
    }
   ],
   "source": [
    "import sys\n",
    "\n",
    "sys.path"
   ]
  },
  {
   "cell_type": "code",
   "execution_count": 3,
   "metadata": {},
   "outputs": [
    {
     "name": "stdout",
     "output_type": "stream",
     "text": [
      "/home/yeong/Source/Repositories/cityu-courses/sdsc3001-2425a/course_project\n",
      "False\n"
     ]
    }
   ],
   "source": [
    "import os\n",
    "\n",
    "print(os.getcwd())\n",
    "print(os.getcwd() in sys.path)"
   ]
  },
  {
   "cell_type": "code",
   "execution_count": 4,
   "metadata": {},
   "outputs": [],
   "source": [
    "sys.path.append(os.getcwd())"
   ]
  },
  {
   "cell_type": "code",
   "execution_count": 5,
   "metadata": {},
   "outputs": [
    {
     "name": "stdout",
     "output_type": "stream",
     "text": [
      "Hello from Playground!\n"
     ]
    }
   ],
   "source": [
    "from load_module import Playground\n",
    "\n",
    "# Create an instance\n",
    "playground = Playground()\n",
    "\n",
    "# Test it\n",
    "print(playground.hello())"
   ]
  }
 ],
 "metadata": {
  "kernelspec": {
   "display_name": "base",
   "language": "python",
   "name": "python3"
  },
  "language_info": {
   "codemirror_mode": {
    "name": "ipython",
    "version": 3
   },
   "file_extension": ".py",
   "mimetype": "text/x-python",
   "name": "python",
   "nbconvert_exporter": "python",
   "pygments_lexer": "ipython3",
   "version": "3.12.4"
  }
 },
 "nbformat": 4,
 "nbformat_minor": 2
}
