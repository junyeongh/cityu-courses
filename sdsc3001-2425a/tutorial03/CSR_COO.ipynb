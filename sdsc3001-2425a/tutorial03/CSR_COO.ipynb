{
 "cells": [
  {
   "cell_type": "code",
   "execution_count": 1,
   "id": "f87d4109",
   "metadata": {},
   "outputs": [
    {
     "name": "stdout",
     "output_type": "stream",
     "text": [
      "[50, 160, 90, 120]\n"
     ]
    }
   ],
   "source": [
    "# COO format matrix A\n",
    "v = [5, 8, 3, 6]\n",
    "COL_INDEX = [0, 1, 2, 1]\n",
    "ROW_INDEX = [0, 1, 2, 3]\n",
    "\n",
    "# vector\n",
    "x = [10, 20, 30, 40]\n",
    "\n",
    "# y = Ax\n",
    "# A = [[ 5  0  0  0]\n",
    "#     [  0  8  0  0]\n",
    "#     [  0  0  3  0]\n",
    "#     [  0  6  0  0]]\n",
    "# x = [10,\n",
    "#      20,\n",
    "#      30,\n",
    "#      40]\n",
    "y = [0, 0, 0, 0]\n",
    "m = len(v)  # the number of non-zero values\n",
    "for i in range(m):\n",
    "    value = v[i]\n",
    "    col = COL_INDEX[i]\n",
    "    row = ROW_INDEX[i]\n",
    "    y[row] += value * x[col]\n",
    "print(y)\n"
   ]
  },
  {
   "cell_type": "code",
   "execution_count": 2,
   "id": "dc179921",
   "metadata": {},
   "outputs": [
    {
     "name": "stdout",
     "output_type": "stream",
     "text": [
      "[50, 220, 740, 480]\n"
     ]
    }
   ],
   "source": [
    "# CSR format matrix A\n",
    "v = [10, 20, 30, 40, 50, 60, 70, 80]\n",
    "COL_INDEX = [0, 1, 1, 3, 2, 3, 4, 5]\n",
    "ROW_INDEX = [0, 2, 4, 7, 8]\n",
    "\n",
    "# vector\n",
    "x = [1, 2, 3, 4, 5, 6]\n",
    "\n",
    "# y = Ax\n",
    "y = [0, 0, 0, 0]\n",
    "m = ROW_INDEX[-1]  # the number of non-zero values\n",
    "\n",
    "\n",
    "\"\"\"\n",
    "In each row, figure out two things:\n",
    "- 1. what are the non-zero elements?\n",
    "= 2. their corresponding col idx.\n",
    "\"\"\"\n",
    "\n",
    "for i in range(len(ROW_INDEX) - 1):\n",
    "    row_index_start = ROW_INDEX[i]\n",
    "    row_index_end = ROW_INDEX[i + 1]\n",
    "\n",
    "    for j in range(row_index_start, row_index_end):\n",
    "        # Length of the range list is the number of valid value in each row.\n",
    "        # v[j]：non-zero element\n",
    "        # COL_INDEX[j]：corresponding col idx\n",
    "\n",
    "        col = COL_INDEX[j]\n",
    "        y[i] += v[j] * x[col]\n",
    "\n",
    "print(y)"
   ]
  },
  {
   "cell_type": "code",
   "execution_count": 2,
   "id": "b2c97f1a",
   "metadata": {},
   "outputs": [
    {
     "name": "stdout",
     "output_type": "stream",
     "text": [
      "[[ 1  0  3]\n",
      " [ 0 -1  4]\n",
      " [-2  5  0]]\n",
      "[1 2 0]\n",
      "[0. 0. 0.]\n",
      "[ 1. -2.  8.]\n",
      "[ 1 -2  8]\n"
     ]
    }
   ],
   "source": [
    "import numpy as np\n",
    "\n",
    "\n",
    "def dot_product(a, b):\n",
    "    sum = 0\n",
    "    for j in range(len(a)):\n",
    "        sum += a[j] * b[j]\n",
    "    return sum\n",
    "\n",
    "\n",
    "A = np.array([[1, 0, 3], [0, -1, 4], [-2, 5, 0]])\n",
    "print(A)\n",
    "\n",
    "x = np.array([1, 2, 0])\n",
    "print(x)\n",
    "\n",
    "# method 1: calculate by definition\n",
    "y = np.zeros(3)\n",
    "print(y)\n",
    "\n",
    "for i in range(3):\n",
    "    y[i] = dot_product(A[i, :], x)\n",
    "print(y)\n",
    "\n",
    "# method 2: use matmul in numpy\n",
    "z = np.matmul(A, x)\n",
    "print(z)"
   ]
  }
 ],
 "metadata": {
  "kernelspec": {
   "display_name": "Python 3 (ipykernel)",
   "language": "python",
   "name": "python3"
  },
  "language_info": {
   "codemirror_mode": {
    "name": "ipython",
    "version": 3
   },
   "file_extension": ".py",
   "mimetype": "text/x-python",
   "name": "python",
   "nbconvert_exporter": "python",
   "pygments_lexer": "ipython3",
   "version": "3.12.4"
  }
 },
 "nbformat": 4,
 "nbformat_minor": 5
}
