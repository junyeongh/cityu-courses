{
 "cells": [
  {
   "cell_type": "markdown",
   "metadata": {},
   "source": [
    "# SDSC3001 - Assignment 1\n",
    "\n",
    "## Question 5"
   ]
  },
  {
   "cell_type": "markdown",
   "metadata": {},
   "source": [
    "### Loading the Graph"
   ]
  },
  {
   "cell_type": "code",
   "execution_count": 1,
   "metadata": {},
   "outputs": [],
   "source": [
    "def load_graph(file_path):\n",
    "    edges = []\n",
    "    with open(file_path, \"r\") as file:\n",
    "        for line in file:\n",
    "            if line.startswith(\"#\"):\n",
    "                continue  # Skip comment lines\n",
    "            parts = line.strip().split()\n",
    "            if len(parts) == 2:\n",
    "                from_node, to_node = map(int, parts)\n",
    "                edges.append((from_node, to_node))\n",
    "    return edges"
   ]
  },
  {
   "cell_type": "code",
   "execution_count": 2,
   "metadata": {},
   "outputs": [],
   "source": [
    "file_path = \"com-dblp.txt\"\n",
    "graph_edges = load_graph(file_path)"
   ]
  },
  {
   "cell_type": "markdown",
   "metadata": {},
   "source": [
    "### Calculate the normalized degree"
   ]
  },
  {
   "cell_type": "code",
   "execution_count": 3,
   "metadata": {},
   "outputs": [],
   "source": [
    "def calculate_normalized_degrees(graph_edges):\n",
    "    node_degrees = {}\n",
    "    for from_node, to_node in graph_edges:\n",
    "        if from_node not in node_degrees:\n",
    "            node_degrees[from_node] = 0\n",
    "        if to_node not in node_degrees:\n",
    "            node_degrees[to_node] = 0\n",
    "        node_degrees[from_node] += 1\n",
    "        node_degrees[to_node] += 1\n",
    "\n",
    "    total_degrees = sum(node_degrees.values())\n",
    "    normalized_degrees = {\n",
    "        node: degree / total_degrees for node, degree in node_degrees.items()\n",
    "    }\n",
    "    return normalized_degrees"
   ]
  },
  {
   "cell_type": "code",
   "execution_count": 4,
   "metadata": {},
   "outputs": [],
   "source": [
    "normalized_degrees = calculate_normalized_degrees(graph_edges)"
   ]
  },
  {
   "cell_type": "markdown",
   "metadata": {},
   "source": [
    "### Simulate a random walk"
   ]
  },
  {
   "cell_type": "code",
   "execution_count": 5,
   "metadata": {},
   "outputs": [],
   "source": [
    "import random\n",
    "\n",
    "\n",
    "def simulate_random_walk(graph_edges, num_steps, seed=42):\n",
    "    random.seed(seed)\n",
    "\n",
    "    neighbors = {}\n",
    "    for from_node, to_node in graph_edges:\n",
    "        if from_node not in neighbors:\n",
    "            neighbors[from_node] = []\n",
    "        if to_node not in neighbors:\n",
    "            neighbors[to_node] = []\n",
    "        neighbors[from_node].append(to_node)\n",
    "        neighbors[to_node].append(from_node)\n",
    "\n",
    "    current_node = random.choice(list(neighbors.keys()))\n",
    "    visit_counts = {node: 0 for node in neighbors.keys()}\n",
    "\n",
    "    for _ in range(num_steps):\n",
    "        visit_counts[current_node] += 1\n",
    "        current_node = random.choice(neighbors[current_node])\n",
    "\n",
    "    return visit_counts"
   ]
  },
  {
   "cell_type": "code",
   "execution_count": 6,
   "metadata": {},
   "outputs": [],
   "source": [
    "def calculate_empirical_frequencies(visit_counts, num_steps):\n",
    "    empirical_frequencies = {\n",
    "        node: count / num_steps for node, count in visit_counts.items()\n",
    "    }\n",
    "    return empirical_frequencies"
   ]
  },
  {
   "cell_type": "code",
   "execution_count": 7,
   "metadata": {},
   "outputs": [],
   "source": [
    "import numpy as np\n",
    "\n",
    "\n",
    "def calculate_l1_distance(vector1, vector2):\n",
    "    return np.sum(\n",
    "        np.abs(np.array(list(vector1.values())) - np.array(list(vector2.values())))\n",
    "    )"
   ]
  },
  {
   "cell_type": "code",
   "execution_count": 8,
   "metadata": {},
   "outputs": [
    {
     "name": "stdout",
     "output_type": "stream",
     "text": [
      "Number of steps: 1000000, L1 distance: 0.585\n",
      "Number of steps: 10000000, L1 distance: 0.192\n",
      "Number of steps: 20000000, L1 distance: 0.136\n",
      "Number of steps: 30000000, L1 distance: 0.112\n",
      "Number of steps: 40000000, L1 distance: 0.097\n",
      "Number of steps: 50000000, L1 distance: 0.087\n"
     ]
    }
   ],
   "source": [
    "diff_num_steps = [1_000_000, 10_000_000, 20_000_000, 30_000_000, 40_000_000, 50_000_000]\n",
    "for num_steps in diff_num_steps:\n",
    "    visit_counts = simulate_random_walk(graph_edges, num_steps)\n",
    "    empirical_frequencies = calculate_empirical_frequencies(visit_counts, num_steps)\n",
    "    l1_distance = calculate_l1_distance(empirical_frequencies, normalized_degrees)\n",
    "    print(f\"Number of steps: {num_steps}, L1 distance: {l1_distance:.3f}\")"
   ]
  },
  {
   "cell_type": "markdown",
   "metadata": {},
   "source": [
    "### Summary of findings and Conclusion"
   ]
  },
  {
   "cell_type": "markdown",
   "metadata": {},
   "source": [
    "My main findings from this question is to observe the computed $\\ell_1$-distance values as $M$ increases, as introduced during the lecture.\n",
    "\n",
    "The $\\ell_1$-distance measures how close the result of a random walk is to becoming steady state. This measure shows us how well the actual number of times we visit each node during the random walk matches up with what we'd expect based on how many connections each node has.\n",
    "\n",
    "The link between $\\textbf{n}$, which is the normalized degree vector, and $\\textbf{f}$, which is the empirical frequency vector, comes from how random walks act on graphs.\n",
    "\n",
    "Each part of $\\textbf{n}$, normalized degree vector, written as $n_v = \\frac{d_v}{D}$, indicates the chance of picking a node $v$ if we randomly choose an endpoint of a graph edge. This shows what we expect for visits if the random walk completely follows the graph's setup, only looking at how connected each node is.\n",
    "\n",
    "On the other hand, each part of empirical frequency vector $\\textbf{f}$, written as $f_v = \\frac{m_v}{M}$, shows how often we actually visit node $v$ in a random walk with $M$ steps. This tells us the real outcome of what happens during the random walk.\n",
    "\n",
    "When $M$ gets bigger, $\\textbf{f}$ should get closer to $\\textbf{n}$, making the $\\ell_1$-distance smaller. This means the random walk is becoming more like what we expect based on the degrees of the nodes."
   ]
  }
 ],
 "metadata": {
  "kernelspec": {
   "display_name": "base",
   "language": "python",
   "name": "python3"
  },
  "language_info": {
   "codemirror_mode": {
    "name": "ipython",
    "version": 3
   },
   "file_extension": ".py",
   "mimetype": "text/x-python",
   "name": "python",
   "nbconvert_exporter": "python",
   "pygments_lexer": "ipython3",
   "version": "3.11.7"
  }
 },
 "nbformat": 4,
 "nbformat_minor": 2
}
