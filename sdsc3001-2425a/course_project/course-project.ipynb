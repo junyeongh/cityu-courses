{
 "cells": [
  {
   "cell_type": "markdown",
   "metadata": {},
   "source": [
    "# SDSC3001 - Course Project"
   ]
  },
  {
   "cell_type": "code",
   "execution_count": null,
   "metadata": {},
   "outputs": [],
   "source": [
    "import numpy as np\n",
    "import numpy as np\n",
    "import polars as pl\n",
    "\n",
    "# constants\n",
    "n: int = 10_000\n",
    "k: int = 128\n",
    "\n",
    "random_seed = 42"
   ]
  },
  {
   "cell_type": "markdown",
   "metadata": {},
   "source": [
    "## Jaccard similarity coefficient"
   ]
  },
  {
   "cell_type": "code",
   "execution_count": null,
   "metadata": {},
   "outputs": [],
   "source": [
    "def jaccard_similarity(set1, set2):\n",
    "    intersection = set1.intersection(set2)\n",
    "    union = set1.union(set2)\n",
    "    return len(intersection) / len(union)\n",
    "\n",
    "\n",
    "# Example usage\n",
    "set1 = {\"a\", \"b\", \"c\", \"d\"}\n",
    "set2 = {\"c\", \"d\", \"e\", \"f\"}\n",
    "\n",
    "similarity = jaccard_similarity(set1, set2)\n",
    "print(f\"Jaccard Similarity: {similarity}\")"
   ]
  },
  {
   "cell_type": "markdown",
   "metadata": {},
   "source": [
    "## Sketching techniques for the Jaccard similarity coefficient"
   ]
  },
  {
   "cell_type": "code",
   "execution_count": null,
   "metadata": {},
   "outputs": [],
   "source": [
    "# MinHash"
   ]
  },
  {
   "cell_type": "markdown",
   "metadata": {},
   "source": [
    "## Datasets\n",
    "\n",
    "\"For simplicity, we assume that elements in sets are 32-bit numbers, i.e., $I = {0, 1, . . . , 2^{32} − 1}$. We evaluate the performance of our method MaxLogHash a variety of datasets.\""
   ]
  },
  {
   "cell_type": "markdown",
   "metadata": {},
   "source": [
    "### Synthetic datasets\n",
    "\n",
    "Generate set A by randomly selecting n different numbers from I\n",
    "\n",
    "Generate set B by randomly selecting $|A \\cup B| = \\frac{J_{A, B}|A|}{1+J_{A, B}}$ different numbers from set A and $n - |A \\cup B|$ different numbers from set I\\A\n",
    "\n",
    "n = 10,000 by default"
   ]
  },
  {
   "cell_type": "code",
   "execution_count": null,
   "metadata": {},
   "outputs": [],
   "source": [
    "# Unbalanced set-pairs (i.e., |A| != |B|)"
   ]
  },
  {
   "cell_type": "markdown",
   "metadata": {},
   "source": [
    "### Real-world datasets"
   ]
  },
  {
   "cell_type": "code",
   "execution_count": null,
   "metadata": {},
   "outputs": [],
   "source": [
    "def load_dataset(filepath):\n",
    "    with open(filepath, \"r\") as file:\n",
    "        dataset = pl.DataFrame(np.loadtxt(file, dtype=int))\n",
    "\n",
    "    return dataset"
   ]
  },
  {
   "cell_type": "code",
   "execution_count": null,
   "metadata": {},
   "outputs": [],
   "source": [
    "mushroom_dataset_path = \"./data/mushroom.dat\"\n",
    "mushroom_dataset = load_dataset(mushroom_dataset_path)\n",
    "\n",
    "print(mushroom_dataset[:5])\n",
    "print(mushroom_dataset.shape)"
   ]
  },
  {
   "cell_type": "markdown",
   "metadata": {},
   "source": [
    "8,124 records with 119 distinct items\n",
    "186,852 item-record pairs"
   ]
  },
  {
   "cell_type": "code",
   "execution_count": null,
   "metadata": {},
   "outputs": [],
   "source": [
    "connect_dataset_path = \"./data/connect.dat\"\n",
    "connect_dataset = load_dataset(connect_dataset_path)\n",
    "\n",
    "print(connect_dataset[:5])\n",
    "print(connect_dataset.shape)"
   ]
  },
  {
   "cell_type": "markdown",
   "metadata": {},
   "source": [
    "67,557 records with 127 distinct items\n",
    "2,904,951 item-record pairs"
   ]
  },
  {
   "cell_type": "code",
   "execution_count": null,
   "metadata": {},
   "outputs": [],
   "source": [
    "# from sklearn.metrics import jaccard_score\n",
    "\n",
    "# # Example sets\n",
    "# set1 = {1, 2, 3}\n",
    "# set2 = {2, 3, 4}\n",
    "\n",
    "# # Convert sets to binary arrays\n",
    "# all_elements = list(set1.union(set2))\n",
    "# binary_set1 = [1 if elem in set1 else 0 for elem in all_elements]\n",
    "# binary_set2 = [1 if elem in set2 else 0 for elem in all_elements]\n",
    "# print(binary_set1, binary_set2)\n",
    "\n",
    "# # Calculate Jaccard similarity\n",
    "# similarity = jaccard_score(\n",
    "#     np.array(binary_set1), np.array(binary_set2), average=\"binary\"\n",
    "# )\n",
    "# print(similarity)"
   ]
  },
  {
   "cell_type": "markdown",
   "metadata": {},
   "source": [
    "## Sketch methods"
   ]
  },
  {
   "cell_type": "markdown",
   "metadata": {},
   "source": [
    "### MinHash"
   ]
  },
  {
   "cell_type": "code",
   "execution_count": null,
   "metadata": {},
   "outputs": [],
   "source": [
    "# import random\n",
    "# import hashlib\n",
    "\n",
    "\n",
    "# class MinHash:\n",
    "#     def __init__(self, num_hashes):\n",
    "#         self.num_hashes = num_hashes\n",
    "#         self.hash_functions = self._generate_hash_functions(num_hashes)\n",
    "\n",
    "#     def _generate_hash_functions(self, num_hashes):\n",
    "#         hash_functions = []\n",
    "#         max_hash = (1 << 32) - 1\n",
    "#         for i in range(num_hashes):\n",
    "#             seed = random.randint(0, max_hash)\n",
    "#             hash_functions.append(\n",
    "#                 lambda x, seed=seed: int(\n",
    "#                     hashlib.md5((str(seed) + x).encode(\"utf8\")).hexdigest(), 16\n",
    "#                 )\n",
    "#             )\n",
    "#         return hash_functions\n",
    "\n",
    "#     def compute_signature(self, input_set):\n",
    "#         signature = [float(\"inf\")] * self.num_hashes\n",
    "#         for element in input_set:\n",
    "#             for i, hash_function in enumerate(self.hash_functions):\n",
    "#                 hash_value = hash_function(element)\n",
    "#                 if hash_value < signature[i]:\n",
    "#                     signature[i] = hash_value\n",
    "#         return signature\n",
    "\n",
    "#     def jaccard_similarity(self, signature1, signature2):\n",
    "#         assert len(signature1) == len(signature2)\n",
    "#         return sum(\n",
    "#             1 for i in range(len(signature1)) if signature1[i] == signature2[i]\n",
    "#         ) / len(signature1)"
   ]
  }
 ],
 "metadata": {
  "kernelspec": {
   "display_name": "base",
   "language": "python",
   "name": "python3"
  },
  "language_info": {
   "codemirror_mode": {
    "name": "ipython",
    "version": 3
   },
   "file_extension": ".py",
   "mimetype": "text/x-python",
   "name": "python",
   "nbconvert_exporter": "python",
   "pygments_lexer": "ipython3",
   "version": "3.12.4"
  }
 },
 "nbformat": 4,
 "nbformat_minor": 2
}
