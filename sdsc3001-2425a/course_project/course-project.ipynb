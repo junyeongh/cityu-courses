{
 "cells": [
  {
   "cell_type": "markdown",
   "metadata": {},
   "source": [
    "# SDSC3001 - Course Project"
   ]
  },
  {
   "cell_type": "code",
   "execution_count": 2,
   "metadata": {},
   "outputs": [],
   "source": [
    "import random\n",
    "import math\n",
    "import numpy as np\n",
    "from sklearn.metrics import jaccard_score"
   ]
  },
  {
   "cell_type": "code",
   "execution_count": 3,
   "metadata": {},
   "outputs": [],
   "source": [
    "def hash_to_uniform(value, seed=42):\n",
    "    random.seed(value + seed)\n",
    "    return random.random()  # Returns a uniform value in (0,1)"
   ]
  },
  {
   "cell_type": "code",
   "execution_count": 4,
   "metadata": {},
   "outputs": [],
   "source": [
    "def compute_log_rank(value, seed=0):\n",
    "    h_value = hash_to_uniform(value, seed)\n",
    "    return math.floor(-math.log2(h_value))\n"
   ]
  },
  {
   "cell_type": "code",
   "execution_count": 5,
   "metadata": {},
   "outputs": [],
   "source": [
    "class MaxLogHashSketch:\n",
    "    def __init__(self, k, max_bits=6):\n",
    "        self.k = k  # Number of hash functions/registers\n",
    "        self.max_bits = max_bits\n",
    "        self.mu = [0] * k  # Stores the maximum log-rank for each register\n",
    "        self.s = [1] * k  # Stores the uniqueness indicator for each register\n",
    "\n",
    "    def update(self, value):\n",
    "        for i in range(self.k):\n",
    "            log_rank = compute_log_rank(value, seed=i)\n",
    "            if log_rank > self.mu[i]:\n",
    "                self.mu[i] = log_rank\n",
    "                self.s[i] = 1  # New max log-rank, so set indicator to 1\n",
    "            elif log_rank == self.mu[i]:\n",
    "                self.s[i] = 0  # Duplicate max log-rank, set indicator to 0\n"
   ]
  },
  {
   "cell_type": "code",
   "execution_count": 6,
   "metadata": {},
   "outputs": [],
   "source": [
    "def estimate_jaccard_similarity(sketch1, sketch2):\n",
    "    k = sketch1.k\n",
    "    matching_registers = 0\n",
    "\n",
    "    for i in range(k):\n",
    "        if sketch1.mu[i] != sketch2.mu[i]:\n",
    "            continue  # Different max log-ranks, not a match\n",
    "        if sketch1.s[i] == 1 and sketch2.s[i] == 1:\n",
    "            matching_registers += 1  # Match found for both mu and s\n",
    "\n",
    "    return matching_registers / k  # Jaccard similarity estimate\n"
   ]
  },
  {
   "cell_type": "code",
   "execution_count": 7,
   "metadata": {},
   "outputs": [],
   "source": [
    "def jaccard_similarity(set1, set2):\n",
    "    intersection = len(set1.intersection(set2))\n",
    "    union = len(set1.union(set2))\n",
    "\n",
    "    return intersection / union"
   ]
  },
  {
   "cell_type": "code",
   "execution_count": null,
   "metadata": {},
   "outputs": [],
   "source": [
    "# Example sets\n",
    "set_a: set[int] = {1, 2, 3, 4, 5, 6, 7, 8}\n",
    "set_b: set[int] = {5, 6, 7, 8, 9, 10, 11, 12}"
   ]
  },
  {
   "cell_type": "code",
   "execution_count": 9,
   "metadata": {},
   "outputs": [
    {
     "name": "stdout",
     "output_type": "stream",
     "text": [
      "Estimated Jaccard Similarity: 0.1640625\n"
     ]
    }
   ],
   "source": [
    "# Generate sketches for each set\n",
    "sketch_a = MaxLogHashSketch(k=128)\n",
    "sketch_b = MaxLogHashSketch(k=128)\n",
    "\n",
    "for element in set_a:\n",
    "    sketch_a.update(element)\n",
    "\n",
    "for element in set_b:\n",
    "    sketch_b.update(element)\n",
    "\n",
    "# Estimate Jaccard similarity\n",
    "jaccard_estimated = estimate_jaccard_similarity(sketch_a, sketch_b)\n",
    "print(f\"Estimated Jaccard Similarity: {jaccard_estimated}\")"
   ]
  },
  {
   "cell_type": "code",
   "execution_count": 10,
   "metadata": {},
   "outputs": [
    {
     "name": "stdout",
     "output_type": "stream",
     "text": [
      "Actual Jaccard Similarity: 0.3333333333333333\n"
     ]
    }
   ],
   "source": [
    "jaccard_true = jaccard_similarity(set_a, set_b)\n",
    "print(f\"Actual Jaccard Similarity: {jaccard_true}\")"
   ]
  }
 ],
 "metadata": {
  "kernelspec": {
   "display_name": "base",
   "language": "python",
   "name": "python3"
  },
  "language_info": {
   "codemirror_mode": {
    "name": "ipython",
    "version": 3
   },
   "file_extension": ".py",
   "mimetype": "text/x-python",
   "name": "python",
   "nbconvert_exporter": "python",
   "pygments_lexer": "ipython3",
   "version": "3.12.4"
  }
 },
 "nbformat": 4,
 "nbformat_minor": 2
}
