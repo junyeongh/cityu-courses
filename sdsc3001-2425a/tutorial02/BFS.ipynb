{
 "cells": [
  {
   "cell_type": "markdown",
   "id": "ff1510af",
   "metadata": {},
   "source": [
    "# Topic: BFS, Breadth-First Search\n",
    "\n",
    "> Breadth-first search (BFS) is an algorithm for searching a tree data structure for a node that satisfies a given property. It starts at the tree root and **explores all nodes** at the **present depth** *prior to* moving on to the nodes at the **next depth level**. Extra memory, usually a queue, is needed to keep track of the child nodes that were encountered *but not yet explored*.\n",
    "\n",
    "Explain:\n",
    "- tree data structure\n",
    "- the tree root\n",
    "- explores all nodes\n",
    "- present depth\n",
    "- next depth level\n",
    "- queue: encountered but not yet explored"
   ]
  },
  {
   "cell_type": "markdown",
   "id": "8f1b7284",
   "metadata": {},
   "source": [
    "## 1st Step: Define Graph using Dictionary\n",
    "\n",
    "Define the **tree data structure** by dictionary"
   ]
  },
  {
   "cell_type": "code",
   "execution_count": 1,
   "id": "be482ea5",
   "metadata": {},
   "outputs": [],
   "source": [
    "# represent a graph by dictionary\n",
    "graph = {1: [2, 3, 4],\n",
    "         2: [1, 5, 6],\n",
    "         3: [1],\n",
    "         4: [1, 7, 8],\n",
    "         5: [2, 9, 10],\n",
    "         6: [2],\n",
    "         7: [4, 11, 12],\n",
    "         8: [4],\n",
    "         9: [5],\n",
    "         10: [5],\n",
    "         11: [7],\n",
    "         12: [7]}\n"
   ]
  },
  {
   "cell_type": "markdown",
   "id": "d5ad3627",
   "metadata": {},
   "source": [
    "## 2nd Step: Start from Node \"1\"\n",
    "**queue**: visited_list <- check if it is encountered or not\n",
    "\n",
    "**tree root**: \"1\""
   ]
  },
  {
   "cell_type": "code",
   "execution_count": 2,
   "id": "630cd271",
   "metadata": {},
   "outputs": [],
   "source": [
    "# find all the nodes that are connected to node 1\n",
    "waiting_list = list() # to visit\n",
    "visited_list = list() # visited\n",
    "\n",
    "waiting_list.append(1)#tree root: \"1\""
   ]
  },
  {
   "cell_type": "markdown",
   "id": "7729b0dc",
   "metadata": {},
   "source": [
    "## 3rd Step: Explore All Nodes"
   ]
  },
  {
   "cell_type": "code",
   "execution_count": 3,
   "id": "0a9f6eb6",
   "metadata": {},
   "outputs": [
    {
     "name": "stdout",
     "output_type": "stream",
     "text": [
      "Now, visting:1|visited_list:[1]|waiting_list:[2, 3, 4]\n",
      "Now, visting:2|visited_list:[1, 2]|waiting_list:[3, 4, 5, 6]\n",
      "Now, visting:3|visited_list:[1, 2, 3]|waiting_list:[4, 5, 6]\n",
      "Now, visting:4|visited_list:[1, 2, 3, 4]|waiting_list:[5, 6, 7, 8]\n",
      "Now, visting:5|visited_list:[1, 2, 3, 4, 5]|waiting_list:[6, 7, 8, 9, 10]\n",
      "Now, visting:6|visited_list:[1, 2, 3, 4, 5, 6]|waiting_list:[7, 8, 9, 10]\n",
      "Now, visting:7|visited_list:[1, 2, 3, 4, 5, 6, 7]|waiting_list:[8, 9, 10, 11, 12]\n",
      "Now, visting:8|visited_list:[1, 2, 3, 4, 5, 6, 7, 8]|waiting_list:[9, 10, 11, 12]\n",
      "Now, visting:9|visited_list:[1, 2, 3, 4, 5, 6, 7, 8, 9]|waiting_list:[10, 11, 12]\n",
      "Now, visting:10|visited_list:[1, 2, 3, 4, 5, 6, 7, 8, 9, 10]|waiting_list:[11, 12]\n",
      "Now, visting:11|visited_list:[1, 2, 3, 4, 5, 6, 7, 8, 9, 10, 11]|waiting_list:[12]\n",
      "Now, visting:12|visited_list:[1, 2, 3, 4, 5, 6, 7, 8, 9, 10, 11, 12]|waiting_list:[]\n"
     ]
    }
   ],
   "source": [
    "while len(waiting_list) != 0:\n",
    "    x = waiting_list[0] \n",
    "    del waiting_list[0]\n",
    "    if x not in visited_list:\n",
    "        visited_list.append(x)\n",
    "    for child_node in graph[x]:\n",
    "        if child_node not in visited_list:\n",
    "            waiting_list.append(child_node)\n",
    "            \n",
    "    print(f\"Now, visting:{x}|visited_list:{visited_list}|waiting_list:{waiting_list}\")\n",
    "\n",
    "# print(visited_list)"
   ]
  },
  {
   "cell_type": "markdown",
   "id": "97165259",
   "metadata": {},
   "source": [
    "Note that,\n",
    "After visiting node \"2\", the next two objects are node \"3\"&\"4\"(**Present Depth**) \n",
    "\n",
    "not \"5\" or \"6\".(**Next Depth**) <- nature of BFS, different from DFS."
   ]
  },
  {
   "cell_type": "code",
   "execution_count": null,
   "id": "7d110486",
   "metadata": {},
   "outputs": [],
   "source": []
  }
 ],
 "metadata": {
  "kernelspec": {
   "display_name": "Python 3 (ipykernel)",
   "language": "python",
   "name": "python3"
  },
  "language_info": {
   "codemirror_mode": {
    "name": "ipython",
    "version": 3
   },
   "file_extension": ".py",
   "mimetype": "text/x-python",
   "name": "python",
   "nbconvert_exporter": "python",
   "pygments_lexer": "ipython3",
   "version": "3.9.13"
  }
 },
 "nbformat": 4,
 "nbformat_minor": 5
}
