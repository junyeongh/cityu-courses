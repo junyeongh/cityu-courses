{
 "cells": [
  {
   "cell_type": "markdown",
   "id": "59518fc4",
   "metadata": {},
   "source": [
    "# Topic: DFS, Depth-first search\n",
    "> Depth-first search (DFS) is an algorithm for traversing or searching tree or graph data structures. The algorithm starts at the **root node** (selecting some arbitrary node as the root node in the case of a graph) and **explores as far as possible along each branch** before backtracking. Extra memory, usually a stack, is needed to **keep track** of the nodes discovered so far along a specified branch which helps in backtracking of the graph.\n",
    "\n",
    "Explain:\n",
    "- Root Node\n",
    "- explores as far as possible along each branch\n",
    "- keep track which helps in backtracking of the graph"
   ]
  },
  {
   "cell_type": "markdown",
   "id": "ab0262fd",
   "metadata": {},
   "source": [
    "## 1st Step: Define Graph using Dictionary\n",
    "\n",
    "Define the **tree data structure** by dictionary"
   ]
  },
  {
   "cell_type": "code",
   "execution_count": 4,
   "id": "fef9c9bb",
   "metadata": {},
   "outputs": [],
   "source": [
    "# represent graph by dictionary\n",
    "graph = {\n",
    "    1: [2, 3, 4],\n",
    "    2: [1, 5, 6],\n",
    "    3: [1],\n",
    "    4: [1, 7, 8],\n",
    "    5: [2, 9, 10],\n",
    "    6: [2],\n",
    "    7: [4, 11, 12],\n",
    "    8: [4],\n",
    "    9: [5],\n",
    "    10: [5],\n",
    "    11: [7],\n",
    "    12: [7],\n",
    "}\n"
   ]
  },
  {
   "cell_type": "markdown",
   "id": "674cf53d",
   "metadata": {},
   "source": [
    "## 2nd Step: Start from Node \"1\"\n",
    "**queue**: visited_list <- check if it is encountered or not\n",
    "\n",
    "**tree root**: \"1\"\n"
   ]
  },
  {
   "cell_type": "code",
   "execution_count": 2,
   "id": "2ecc4d2e",
   "metadata": {},
   "outputs": [],
   "source": [
    "# *******************************************************************\n",
    "# find all the nodes that are connected to node 1\n",
    "\n",
    "# we store the answer in a list\n",
    "ans = []\n",
    "waiting_list = []  # we make a to-do list or waiting list\n",
    "visited_list = []  # we should also record the node we have visited\n",
    "\n",
    "waiting_list.append(1)"
   ]
  },
  {
   "cell_type": "markdown",
   "id": "9722cd9d",
   "metadata": {},
   "source": [
    "## 3rd Step: Explore as far as possible along each branch"
   ]
  },
  {
   "cell_type": "code",
   "execution_count": 3,
   "id": "a410e063",
   "metadata": {},
   "outputs": [
    {
     "name": "stdout",
     "output_type": "stream",
     "text": [
      "Now, visting:1|visited_list:[1]|waiting_list:[2, 3, 4]\n",
      "Now, visting:4|visited_list:[1, 4]|waiting_list:[2, 3, 7, 8]\n",
      "Now, visting:8|visited_list:[1, 4, 8]|waiting_list:[2, 3, 7]\n",
      "Now, visting:7|visited_list:[1, 4, 8, 7]|waiting_list:[2, 3, 11, 12]\n",
      "Now, visting:12|visited_list:[1, 4, 8, 7, 12]|waiting_list:[2, 3, 11]\n",
      "Now, visting:11|visited_list:[1, 4, 8, 7, 12, 11]|waiting_list:[2, 3]\n",
      "Now, visting:3|visited_list:[1, 4, 8, 7, 12, 11, 3]|waiting_list:[2]\n",
      "Now, visting:2|visited_list:[1, 4, 8, 7, 12, 11, 3, 2]|waiting_list:[5, 6]\n",
      "Now, visting:6|visited_list:[1, 4, 8, 7, 12, 11, 3, 2, 6]|waiting_list:[5]\n",
      "Now, visting:5|visited_list:[1, 4, 8, 7, 12, 11, 3, 2, 6, 5]|waiting_list:[9, 10]\n",
      "Now, visting:10|visited_list:[1, 4, 8, 7, 12, 11, 3, 2, 6, 5, 10]|waiting_list:[9]\n",
      "Now, visting:9|visited_list:[1, 4, 8, 7, 12, 11, 3, 2, 6, 5, 10, 9]|waiting_list:[]\n",
      "[1, 4, 8, 7, 12, 11, 3, 2, 6, 5, 10, 9]\n"
     ]
    }
   ],
   "source": [
    "while len(waiting_list) != 0:\n",
    "    # we process from the end: DFS\n",
    "    # x = waiting_list[-1] #<- Watch out! Here is different from BFS. [pop is also welcome.]\n",
    "    # del waiting_list[-1]  # remove it form waiting list\n",
    "\n",
    "    x = waiting_list.pop(-1)\n",
    "\n",
    "    visited_list.append(x)  # mark that we have visited x\n",
    "    # put all the neighbor of x in to ans\n",
    "    for node in graph[x]:\n",
    "        if node not in ans:\n",
    "            ans.append(node)\n",
    "        if node not in visited_list:\n",
    "            waiting_list.append(node)\n",
    "    print(f\"Now, visting:{x}|visited_list:{visited_list}|waiting_list:{waiting_list}\")\n",
    "\n",
    "# print(ans)\n",
    "print(visited_list)"
   ]
  },
  {
   "cell_type": "markdown",
   "id": "63d2a993",
   "metadata": {},
   "source": [
    "## Q: why pop(-1) in DFS and pop(0) in BFS?\n",
    "> list.pop(-1): return and remove the last one in the list. (**First in Last out**)\n",
    "list.pop(0): return and remove the first one in the list.  (**First in First out**)\n",
    "\n",
    "Since the child nodes are always append into the waiting list, they are at the end of the list.\n",
    "Thus,\n",
    "- pop(-1): always visit the child node first(*go deep*<-**D**FS)\n",
    "- pop(0): always visit and nodes at the present level first (*go broadly*<-**B**FS)\n",
    "\n",
    "\n"
   ]
  },
  {
   "cell_type": "code",
   "execution_count": null,
   "id": "8fc8272a",
   "metadata": {},
   "outputs": [],
   "source": []
  }
 ],
 "metadata": {
  "kernelspec": {
   "display_name": "Python 3 (ipykernel)",
   "language": "python",
   "name": "python3"
  },
  "language_info": {
   "codemirror_mode": {
    "name": "ipython",
    "version": 3
   },
   "file_extension": ".py",
   "mimetype": "text/x-python",
   "name": "python",
   "nbconvert_exporter": "python",
   "pygments_lexer": "ipython3",
   "version": "3.9.13"
  }
 },
 "nbformat": 4,
 "nbformat_minor": 5
}
