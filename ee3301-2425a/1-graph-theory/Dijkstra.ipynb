{
 "cells": [
  {
   "cell_type": "markdown",
   "metadata": {},
   "source": [
    "Dijkstra's Algorithm is also called as a Lowest cost first search. It is used to find the shortest path from a source node to all other nodes in a weighted graph. It is a greedy algorithm and similar to Prim's algorithm. The algorithm works by keeping track of the shortest distance from the source node to every other node in the graph. It uses a priority queue to select the node with the smallest distance from the source node and then relaxes the edges of that node. The algorithm continues this process until all the nodes have been visited."
   ]
  },
  {
   "cell_type": "code",
   "execution_count": 22,
   "metadata": {},
   "outputs": [],
   "source": [
    "graph = {\n",
    "    \"A\": {\"B\": 10, \"C\": 3},\n",
    "    \"B\": {\"C\": 1, \"D\": 2},\n",
    "    \"C\": {\"B\": 4, \"D\": 8, \"E\": 2},\n",
    "    \"D\": {\"E\": 7},\n",
    "    \"E\": {\"D\": 9}\n",
    "}"
   ]
  },
  {
   "cell_type": "code",
   "execution_count": 23,
   "metadata": {},
   "outputs": [],
   "source": [
    "def dijkstra(graph, start, end):\n",
    "    shortest_distance = {}\n",
    "    predecessor = {}\n",
    "    unseen_nodes = graph\n",
    "    infinity = float('inf')\n",
    "    path = []\n",
    "    for node in unseen_nodes:\n",
    "        shortest_distance[node] = infinity\n",
    "    shortest_distance[start] = 0\n",
    "\n",
    "    while unseen_nodes:\n",
    "        min_node = None\n",
    "        for node in unseen_nodes:\n",
    "            if min_node is None:\n",
    "                min_node = node\n",
    "            elif shortest_distance[node] < shortest_distance[min_node]:\n",
    "                min_node = node\n",
    "\n",
    "        for child_node, weight in graph[min_node].items():\n",
    "            if weight + shortest_distance[min_node] < shortest_distance[child_node]:\n",
    "                shortest_distance[child_node] = weight + shortest_distance[min_node]\n",
    "                predecessor[child_node] = min_node\n",
    "        unseen_nodes.pop(min_node)\n",
    "\n",
    "    current_node = end\n",
    "    while current_node != start:\n",
    "        try:\n",
    "            path.insert(0, current_node)\n",
    "            current_node = predecessor[current_node]\n",
    "        except ValueError:\n",
    "            print(\"Path not reachable\")\n",
    "            break\n",
    "    path.insert(0, start)\n",
    "    if shortest_distance[end] != infinity:\n",
    "        print(\"Shortest path is: \", path)\n",
    "        print(\"Shortest distance is: \", shortest_distance[end])"
   ]
  },
  {
   "cell_type": "code",
   "execution_count": 24,
   "metadata": {},
   "outputs": [
    {
     "name": "stdout",
     "output_type": "stream",
     "text": [
      "Shortest path is:  ['A', 'C', 'B', 'D']\n",
      "Shortest distance is:  9\n"
     ]
    }
   ],
   "source": [
    "dijkstra(graph, \"A\", \"D\")"
   ]
  },
  {
   "cell_type": "code",
   "execution_count": 27,
   "metadata": {},
   "outputs": [
    {
     "name": "stdout",
     "output_type": "stream",
     "text": [
      "Path: ['A', 'C', 'B', 'D']\n",
      "Cost: 9\n"
     ]
    }
   ],
   "source": [
    "import heapq\n",
    "\n",
    "def uniform_cost_search(graph, start, goal):\n",
    "    # Priority queue (min-heap) to store (cost, node, path)\n",
    "    queue = [(0, start, [])]\n",
    "    visited = set()\n",
    "\n",
    "    while queue:\n",
    "        # Pop the node with the lowest cost\n",
    "        cost, node, path = heapq.heappop(queue)\n",
    "        \n",
    "        # If the node is the goal, return the path and cost\n",
    "        if node == goal:\n",
    "            return path + [node], cost\n",
    "        \n",
    "        # If the node has already been visited, skip it\n",
    "        if node in visited:\n",
    "            continue\n",
    "        \n",
    "        # Mark the node as visited\n",
    "        visited.add(node)\n",
    "        \n",
    "        # Explore neighbors\n",
    "        for neighbor, weight in graph.get(node, {}).items():\n",
    "            if neighbor not in visited:\n",
    "                heapq.heappush(queue, (cost + weight, neighbor, path + [node]))\n",
    "\n",
    "    return None, float('inf')  # If goal is not reachable\n"
   ]
  },
  {
   "cell_type": "code",
   "execution_count": null,
   "metadata": {},
   "outputs": [],
   "source": [
    "path, cost = uniform_cost_search(graph, \"A\", \"D\")\n",
    "print(\"Path:\", path)\n",
    "print(\"Cost:\", cost)"
   ]
  }
 ],
 "metadata": {
  "kernelspec": {
   "display_name": "base",
   "language": "python",
   "name": "python3"
  },
  "language_info": {
   "codemirror_mode": {
    "name": "ipython",
    "version": 3
   },
   "file_extension": ".py",
   "mimetype": "text/x-python",
   "name": "python",
   "nbconvert_exporter": "python",
   "pygments_lexer": "ipython3",
   "version": "3.12.4"
  }
 },
 "nbformat": 4,
 "nbformat_minor": 2
}
