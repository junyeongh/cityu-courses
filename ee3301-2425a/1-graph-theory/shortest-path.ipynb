{
 "cells": [
  {
   "cell_type": "markdown",
   "metadata": {},
   "source": [
    "# Shortest path algorithm"
   ]
  },
  {
   "cell_type": "markdown",
   "metadata": {},
   "source": [
    "## Dijsktra's Algorithm\n",
    "\n",
    "Dijkstra's Algorithm is used to find the shortest path from a source node to all other nodes in a weighted graph. It is a greedy algorithm and similar to Prim's algorithm. The algorithm works by keeping track of the shortest distance from the source node to every other node in the graph. It uses a priority queue to select the node with the smallest distance from the source node and then relaxes the edges of that node. The algorithm continues this process until all the nodes have been visited."
   ]
  },
  {
   "cell_type": "code",
   "execution_count": 11,
   "metadata": {},
   "outputs": [],
   "source": [
    "def dijkstra(graph, start, end):\n",
    "    shortest_distance = {}\n",
    "    predecessor = {}\n",
    "    unseen_nodes = graph\n",
    "    infinity = float(\"inf\")\n",
    "    path = []\n",
    "    for node in unseen_nodes:\n",
    "        shortest_distance[node] = infinity\n",
    "    shortest_distance[start] = 0\n",
    "\n",
    "    while unseen_nodes:\n",
    "        min_node = None\n",
    "        for node in unseen_nodes:\n",
    "            if min_node is None:\n",
    "                min_node = node\n",
    "            elif shortest_distance[node] < shortest_distance[min_node]:\n",
    "                min_node = node\n",
    "\n",
    "        for child_node, weight in graph[min_node].items():\n",
    "            if weight + shortest_distance[min_node] < shortest_distance[child_node]:\n",
    "                shortest_distance[child_node] = weight + shortest_distance[min_node]\n",
    "                predecessor[child_node] = min_node\n",
    "        unseen_nodes.pop(min_node)\n",
    "\n",
    "    current_node = end\n",
    "    while current_node != start:\n",
    "        if current_node not in predecessor:\n",
    "            return None, float(\"inf\")  # Path not reachable\n",
    "        path.insert(0, current_node)\n",
    "        current_node = predecessor[current_node]\n",
    "    path.insert(0, start)\n",
    "\n",
    "    return path, shortest_distance[end]"
   ]
  },
  {
   "cell_type": "code",
   "execution_count": null,
   "metadata": {},
   "outputs": [],
   "source": [
    "graph = {\n",
    "    \"A\": {\"B\": 10, \"C\": 3},\n",
    "    \"B\": {\"C\": 1, \"D\": 2},\n",
    "    \"C\": {\"B\": 4, \"D\": 8, \"E\": 2},\n",
    "    \"D\": {\"E\": 7},\n",
    "    \"E\": {\"D\": 9},\n",
    "}\n",
    "\n",
    "start_node = \"A\"\n",
    "goal_node = \"D\"\n",
    "\n",
    "shortest_path, total_cost = dijkstra(graph, start_node, goal_node)\n",
    "\n",
    "if shortest_path:\n",
    "    print(\n",
    "        f\"Shortest path from {start_node} to {goal_node}: {' -> '.join(shortest_path)}\"\n",
    "    )\n",
    "    print(f\"Total cost: {total_cost}\")\n",
    "else:\n",
    "    print(f\"No path found from {start_node} to {goal_node}\")"
   ]
  },
  {
   "cell_type": "markdown",
   "metadata": {},
   "source": [
    "## Uniform Cost Search"
   ]
  },
  {
   "cell_type": "code",
   "execution_count": 13,
   "metadata": {},
   "outputs": [],
   "source": [
    "import heapq\n",
    "\n",
    "\n",
    "def uniform_cost_search(graph, start, goal):\n",
    "    priority_queue = [(0, start, [])]\n",
    "    visited = set()\n",
    "\n",
    "    while priority_queue:\n",
    "        (cost, node, path) = heapq.heappop(priority_queue)\n",
    "\n",
    "        if node not in visited:\n",
    "            visited.add(node)\n",
    "            path = path + [node]\n",
    "\n",
    "            if node == goal:\n",
    "                return path, cost\n",
    "\n",
    "            for neighbor, step_cost in graph[node].items():\n",
    "                if neighbor not in visited:\n",
    "                    heapq.heappush(priority_queue, (cost + step_cost, neighbor, path))\n",
    "\n",
    "    return None, float(\"inf\")"
   ]
  },
  {
   "cell_type": "code",
   "execution_count": null,
   "metadata": {},
   "outputs": [],
   "source": [
    "graph = {\n",
    "    \"A\": {\"B\": 10, \"C\": 3},\n",
    "    \"B\": {\"C\": 1, \"D\": 2},\n",
    "    \"C\": {\"B\": 4, \"D\": 8, \"E\": 2},\n",
    "    \"D\": {\"E\": 7},\n",
    "    \"E\": {\"D\": 9},\n",
    "}\n",
    "\n",
    "start_node = \"A\"\n",
    "goal_node = \"D\"\n",
    "\n",
    "shortest_path, total_cost = uniform_cost_search(graph, start_node, goal_node)\n",
    "\n",
    "if shortest_path:\n",
    "    print(\n",
    "        f\"Shortest path from {start_node} to {goal_node}: {' -> '.join(shortest_path)}\"\n",
    "    )\n",
    "    print(shortest_path)\n",
    "    print(f\"Total cost: {total_cost}\")\n",
    "else:\n",
    "    print(f\"No path found from {start_node} to {goal_node}\")"
   ]
  }
 ],
 "metadata": {
  "kernelspec": {
   "display_name": "base",
   "language": "python",
   "name": "python3"
  },
  "language_info": {
   "codemirror_mode": {
    "name": "ipython",
    "version": 3
   },
   "file_extension": ".py",
   "mimetype": "text/x-python",
   "name": "python",
   "nbconvert_exporter": "python",
   "pygments_lexer": "ipython3",
   "version": "3.12.4"
  }
 },
 "nbformat": 4,
 "nbformat_minor": 2
}
