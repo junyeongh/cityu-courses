{
 "cells": [
  {
   "cell_type": "markdown",
   "metadata": {},
   "source": [
    "# Tutorial 1\n",
    "\n",
    "## Exercise 1"
   ]
  },
  {
   "cell_type": "code",
   "execution_count": 1,
   "metadata": {},
   "outputs": [],
   "source": [
    "jobs = [\n",
    "    (0, 5),\n",
    "    (1, 2),\n",
    "    (3, 8),\n",
    "    (2, 5),\n",
    "    (6, 7),\n",
    "    (4, 11),\n",
    "    (3, 13),\n",
    "    (6, 7),\n",
    "]"
   ]
  },
  {
   "cell_type": "code",
   "execution_count": 2,
   "metadata": {},
   "outputs": [],
   "source": [
    "def interval_scheduling(jobs):\n",
    "    sorted_jobs = sorted(jobs.copy(), key=lambda x: x[1])\n",
    "    print(f\"{sorted_jobs=}\")\n",
    "    selected_jobs = []\n",
    "\n",
    "    for job in sorted_jobs:\n",
    "        # if job is compatible with the selected jobs, when\n",
    "        # - selected_jobs is empty, or\n",
    "        # - starting time of item to check if before the finishing time of the last compatible job\n",
    "        if not selected_jobs or job[0] >= selected_jobs[-1][1]:\n",
    "            # then add it to the selected jobs\n",
    "            selected_jobs.append(job)\n",
    "\n",
    "    return selected_jobs"
   ]
  },
  {
   "cell_type": "code",
   "execution_count": 3,
   "metadata": {},
   "outputs": [
    {
     "name": "stdout",
     "output_type": "stream",
     "text": [
      "sorted_jobs=[(1, 2), (0, 5), (2, 5), (6, 7), (6, 7), (3, 8), (4, 11), (3, 13)]\n"
     ]
    },
    {
     "data": {
      "text/plain": [
       "[(1, 2), (2, 5), (6, 7)]"
      ]
     },
     "execution_count": 3,
     "metadata": {},
     "output_type": "execute_result"
    }
   ],
   "source": [
    "interval_scheduling(jobs)"
   ]
  },
  {
   "cell_type": "markdown",
   "metadata": {},
   "source": [
    "## Exercise 2"
   ]
  },
  {
   "cell_type": "code",
   "execution_count": 4,
   "metadata": {},
   "outputs": [],
   "source": [
    "def interval_partitioning(jobs):\n",
    "    sorted_jobs = sorted(jobs.copy(), key=lambda x: x[0])\n",
    "    print(f\"{sorted_jobs=}\")\n",
    "    partitions = []\n",
    "\n",
    "    for job in sorted_jobs:\n",
    "        # find the first partition that job can fit in\n",
    "        for partition in partitions:\n",
    "            if job[0] >= partition[-1][1]:  # ([] >= []) == (True) in python\n",
    "                partition.append(job)\n",
    "                break\n",
    "        else:\n",
    "            partitions.append([job])\n",
    "\n",
    "    return partitions"
   ]
  },
  {
   "cell_type": "code",
   "execution_count": 5,
   "metadata": {},
   "outputs": [
    {
     "name": "stdout",
     "output_type": "stream",
     "text": [
      "sorted_jobs=[(0, 5), (1, 2), (2, 5), (3, 8), (3, 13), (4, 11), (6, 7), (6, 7)]\n",
      "[(0, 5), (6, 7)]\n",
      "[(1, 2), (2, 5), (6, 7)]\n",
      "[(3, 8)]\n",
      "[(3, 13)]\n",
      "[(4, 11)]\n"
     ]
    }
   ],
   "source": [
    "for i in interval_partitioning(jobs):\n",
    "    print(i)"
   ]
  }
 ],
 "metadata": {
  "kernelspec": {
   "display_name": "base",
   "language": "python",
   "name": "python3"
  },
  "language_info": {
   "codemirror_mode": {
    "name": "ipython",
    "version": 3
   },
   "file_extension": ".py",
   "mimetype": "text/x-python",
   "name": "python",
   "nbconvert_exporter": "python",
   "pygments_lexer": "ipython3",
   "version": "3.11.10"
  }
 },
 "nbformat": 4,
 "nbformat_minor": 2
}
