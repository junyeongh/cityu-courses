{
 "cells": [
  {
   "cell_type": "code",
   "execution_count": null,
   "metadata": {},
   "outputs": [],
   "source": [
    "jobs = [\n",
    "    (0, 10),\n",
    "    (3, 4),\n",
    "    (2, 8),\n",
    "    (1, 5),\n",
    "    (4, 5),\n",
    "    (4, 8),\n",
    "    (5, 6),\n",
    "    (7, 9),\n",
    "]  # (start_time, finish_time)\n",
    "\n",
    "# Sort jobs by finish time\n",
    "sorted_jobs = sorted(jobs, key=lambda x: x[1])\n",
    "selected_jobs = []\n",
    "\n",
    "for job in sorted_jobs:\n",
    "    # if job is compatible with the selected jobs\n",
    "    if not selected_jobs or job[0] >= selected_jobs[-1][1]:\n",
    "        # then add it to the selected jobs\n",
    "        selected_jobs.append(job)\n",
    "\n",
    "print(selected_jobs)\n"
   ]
  }
 ],
 "metadata": {
  "kernelspec": {
   "display_name": "base",
   "language": "python",
   "name": "python3"
  },
  "language_info": {
   "name": "python",
   "version": "3.11.10"
  }
 },
 "nbformat": 4,
 "nbformat_minor": 2
}
